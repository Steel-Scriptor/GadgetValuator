{
  "cells": [
    {
      "cell_type": "code",
      "execution_count": 103,
      "id": "d83e8eb2-5d7c-4e4f-b52d-efaa8ccfea0f",
      "metadata": {
        "id": "d83e8eb2-5d7c-4e4f-b52d-efaa8ccfea0f"
      },
      "outputs": [],
      "source": [
        "import numpy as np\n",
        "import pandas as pd\n",
        "import matplotlib.pyplot as plt\n",
        "import seaborn as sb\n",
        "from sklearn.preprocessing import LabelEncoder\n",
        "from sklearn.preprocessing import StandardScaler\n",
        "from sklearn.model_selection import train_test_split"
      ]
    },
    {
      "cell_type": "code",
      "execution_count": 104,
      "id": "d316082d-9389-4bcc-8b5d-2e37c0f1e82e",
      "metadata": {
        "id": "d316082d-9389-4bcc-8b5d-2e37c0f1e82e"
      },
      "outputs": [],
      "source": [
        "df_cleaned = pd.read_csv(r\"/content/cleaned_laptop_data.csv\")"
      ]
    },
    {
      "cell_type": "code",
      "execution_count": 105,
      "id": "3a427340-7590-4748-8098-ea5f740acee9",
      "metadata": {
        "colab": {
          "base_uri": "https://localhost:8080/",
          "height": 481
        },
        "id": "3a427340-7590-4748-8098-ea5f740acee9",
        "outputId": "dc34741b-51dc-41ad-b6f0-81c0c31b2f59"
      },
      "outputs": [
        {
          "output_type": "execute_result",
          "data": {
            "text/plain": [
              "  Company      Product   TypeName  Screen Size (inches)  \\\n",
              "0   Apple  MacBook Pro  Ultrabook                  13.3   \n",
              "1   Apple  Macbook Air  Ultrabook                  13.3   \n",
              "2      HP       250 G6   Notebook                  15.6   \n",
              "3   Apple  MacBook Pro  Ultrabook                  15.4   \n",
              "4   Apple  MacBook Pro  Ultrabook                  13.3   \n",
              "\n",
              "   Scr. Res. - ips panel  Scr. Res. - retina display  Scr. Res. - full hd  \\\n",
              "0                      0                           0                    0   \n",
              "1                      0                           0                    0   \n",
              "2                      0                           0                    0   \n",
              "3                      0                           0                    0   \n",
              "4                      0                           0                    0   \n",
              "\n",
              "   Scr. Res. - 2560x1600  Scr. Res. - 2000x1300  Scr. Res. - 1920x1080  ...  \\\n",
              "0                      0                      0                      0  ...   \n",
              "1                      0                      0                      0  ...   \n",
              "2                      0                      0                      0  ...   \n",
              "3                      0                      0                      0  ...   \n",
              "4                      0                      0                      0  ...   \n",
              "\n",
              "   RAM (GB)  SSD (GB)  Flash Storage (GB)  HDD (GB)  SSHD (Hybrid, GB)  \\\n",
              "0         8     128.0                 0.0       0.0                0.0   \n",
              "1         8       0.0                 0.0       0.0                0.0   \n",
              "2         8     256.0                 0.0       0.0                0.0   \n",
              "3        16     512.0                 0.0       0.0                0.0   \n",
              "4         8     256.0                 0.0       0.0                0.0   \n",
              "\n",
              "   GPU company              GPU series  Operating System  Weight  Price (INR)  \n",
              "0        Intel  Iris Plus Graphics 640      Mac OS (New)    1.37       122582  \n",
              "1        Intel        HD Graphics 6000      Mac OS (New)    1.34        82253  \n",
              "2        Intel         HD Graphics 620        Windows 10    1.86        52612  \n",
              "3          AMD          Radeon Pro 455      Mac OS (New)    1.83       232177  \n",
              "4        Intel  Iris Plus Graphics 650      Mac OS (New)    1.37       165029  \n",
              "\n",
              "[5 rows x 34 columns]"
            ],
            "text/html": [
              "\n",
              "  <div id=\"df-4b49cd67-c734-4b8c-9426-94df8644cb0b\" class=\"colab-df-container\">\n",
              "    <div>\n",
              "<style scoped>\n",
              "    .dataframe tbody tr th:only-of-type {\n",
              "        vertical-align: middle;\n",
              "    }\n",
              "\n",
              "    .dataframe tbody tr th {\n",
              "        vertical-align: top;\n",
              "    }\n",
              "\n",
              "    .dataframe thead th {\n",
              "        text-align: right;\n",
              "    }\n",
              "</style>\n",
              "<table border=\"1\" class=\"dataframe\">\n",
              "  <thead>\n",
              "    <tr style=\"text-align: right;\">\n",
              "      <th></th>\n",
              "      <th>Company</th>\n",
              "      <th>Product</th>\n",
              "      <th>TypeName</th>\n",
              "      <th>Screen Size (inches)</th>\n",
              "      <th>Scr. Res. - ips panel</th>\n",
              "      <th>Scr. Res. - retina display</th>\n",
              "      <th>Scr. Res. - full hd</th>\n",
              "      <th>Scr. Res. - 2560x1600</th>\n",
              "      <th>Scr. Res. - 2000x1300</th>\n",
              "      <th>Scr. Res. - 1920x1080</th>\n",
              "      <th>...</th>\n",
              "      <th>RAM (GB)</th>\n",
              "      <th>SSD (GB)</th>\n",
              "      <th>Flash Storage (GB)</th>\n",
              "      <th>HDD (GB)</th>\n",
              "      <th>SSHD (Hybrid, GB)</th>\n",
              "      <th>GPU company</th>\n",
              "      <th>GPU series</th>\n",
              "      <th>Operating System</th>\n",
              "      <th>Weight</th>\n",
              "      <th>Price (INR)</th>\n",
              "    </tr>\n",
              "  </thead>\n",
              "  <tbody>\n",
              "    <tr>\n",
              "      <th>0</th>\n",
              "      <td>Apple</td>\n",
              "      <td>MacBook Pro</td>\n",
              "      <td>Ultrabook</td>\n",
              "      <td>13.3</td>\n",
              "      <td>0</td>\n",
              "      <td>0</td>\n",
              "      <td>0</td>\n",
              "      <td>0</td>\n",
              "      <td>0</td>\n",
              "      <td>0</td>\n",
              "      <td>...</td>\n",
              "      <td>8</td>\n",
              "      <td>128.0</td>\n",
              "      <td>0.0</td>\n",
              "      <td>0.0</td>\n",
              "      <td>0.0</td>\n",
              "      <td>Intel</td>\n",
              "      <td>Iris Plus Graphics 640</td>\n",
              "      <td>Mac OS (New)</td>\n",
              "      <td>1.37</td>\n",
              "      <td>122582</td>\n",
              "    </tr>\n",
              "    <tr>\n",
              "      <th>1</th>\n",
              "      <td>Apple</td>\n",
              "      <td>Macbook Air</td>\n",
              "      <td>Ultrabook</td>\n",
              "      <td>13.3</td>\n",
              "      <td>0</td>\n",
              "      <td>0</td>\n",
              "      <td>0</td>\n",
              "      <td>0</td>\n",
              "      <td>0</td>\n",
              "      <td>0</td>\n",
              "      <td>...</td>\n",
              "      <td>8</td>\n",
              "      <td>0.0</td>\n",
              "      <td>0.0</td>\n",
              "      <td>0.0</td>\n",
              "      <td>0.0</td>\n",
              "      <td>Intel</td>\n",
              "      <td>HD Graphics 6000</td>\n",
              "      <td>Mac OS (New)</td>\n",
              "      <td>1.34</td>\n",
              "      <td>82253</td>\n",
              "    </tr>\n",
              "    <tr>\n",
              "      <th>2</th>\n",
              "      <td>HP</td>\n",
              "      <td>250 G6</td>\n",
              "      <td>Notebook</td>\n",
              "      <td>15.6</td>\n",
              "      <td>0</td>\n",
              "      <td>0</td>\n",
              "      <td>0</td>\n",
              "      <td>0</td>\n",
              "      <td>0</td>\n",
              "      <td>0</td>\n",
              "      <td>...</td>\n",
              "      <td>8</td>\n",
              "      <td>256.0</td>\n",
              "      <td>0.0</td>\n",
              "      <td>0.0</td>\n",
              "      <td>0.0</td>\n",
              "      <td>Intel</td>\n",
              "      <td>HD Graphics 620</td>\n",
              "      <td>Windows 10</td>\n",
              "      <td>1.86</td>\n",
              "      <td>52612</td>\n",
              "    </tr>\n",
              "    <tr>\n",
              "      <th>3</th>\n",
              "      <td>Apple</td>\n",
              "      <td>MacBook Pro</td>\n",
              "      <td>Ultrabook</td>\n",
              "      <td>15.4</td>\n",
              "      <td>0</td>\n",
              "      <td>0</td>\n",
              "      <td>0</td>\n",
              "      <td>0</td>\n",
              "      <td>0</td>\n",
              "      <td>0</td>\n",
              "      <td>...</td>\n",
              "      <td>16</td>\n",
              "      <td>512.0</td>\n",
              "      <td>0.0</td>\n",
              "      <td>0.0</td>\n",
              "      <td>0.0</td>\n",
              "      <td>AMD</td>\n",
              "      <td>Radeon Pro 455</td>\n",
              "      <td>Mac OS (New)</td>\n",
              "      <td>1.83</td>\n",
              "      <td>232177</td>\n",
              "    </tr>\n",
              "    <tr>\n",
              "      <th>4</th>\n",
              "      <td>Apple</td>\n",
              "      <td>MacBook Pro</td>\n",
              "      <td>Ultrabook</td>\n",
              "      <td>13.3</td>\n",
              "      <td>0</td>\n",
              "      <td>0</td>\n",
              "      <td>0</td>\n",
              "      <td>0</td>\n",
              "      <td>0</td>\n",
              "      <td>0</td>\n",
              "      <td>...</td>\n",
              "      <td>8</td>\n",
              "      <td>256.0</td>\n",
              "      <td>0.0</td>\n",
              "      <td>0.0</td>\n",
              "      <td>0.0</td>\n",
              "      <td>Intel</td>\n",
              "      <td>Iris Plus Graphics 650</td>\n",
              "      <td>Mac OS (New)</td>\n",
              "      <td>1.37</td>\n",
              "      <td>165029</td>\n",
              "    </tr>\n",
              "  </tbody>\n",
              "</table>\n",
              "<p>5 rows × 34 columns</p>\n",
              "</div>\n",
              "    <div class=\"colab-df-buttons\">\n",
              "\n",
              "  <div class=\"colab-df-container\">\n",
              "    <button class=\"colab-df-convert\" onclick=\"convertToInteractive('df-4b49cd67-c734-4b8c-9426-94df8644cb0b')\"\n",
              "            title=\"Convert this dataframe to an interactive table.\"\n",
              "            style=\"display:none;\">\n",
              "\n",
              "  <svg xmlns=\"http://www.w3.org/2000/svg\" height=\"24px\" viewBox=\"0 -960 960 960\">\n",
              "    <path d=\"M120-120v-720h720v720H120Zm60-500h600v-160H180v160Zm220 220h160v-160H400v160Zm0 220h160v-160H400v160ZM180-400h160v-160H180v160Zm440 0h160v-160H620v160ZM180-180h160v-160H180v160Zm440 0h160v-160H620v160Z\"/>\n",
              "  </svg>\n",
              "    </button>\n",
              "\n",
              "  <style>\n",
              "    .colab-df-container {\n",
              "      display:flex;\n",
              "      gap: 12px;\n",
              "    }\n",
              "\n",
              "    .colab-df-convert {\n",
              "      background-color: #E8F0FE;\n",
              "      border: none;\n",
              "      border-radius: 50%;\n",
              "      cursor: pointer;\n",
              "      display: none;\n",
              "      fill: #1967D2;\n",
              "      height: 32px;\n",
              "      padding: 0 0 0 0;\n",
              "      width: 32px;\n",
              "    }\n",
              "\n",
              "    .colab-df-convert:hover {\n",
              "      background-color: #E2EBFA;\n",
              "      box-shadow: 0px 1px 2px rgba(60, 64, 67, 0.3), 0px 1px 3px 1px rgba(60, 64, 67, 0.15);\n",
              "      fill: #174EA6;\n",
              "    }\n",
              "\n",
              "    .colab-df-buttons div {\n",
              "      margin-bottom: 4px;\n",
              "    }\n",
              "\n",
              "    [theme=dark] .colab-df-convert {\n",
              "      background-color: #3B4455;\n",
              "      fill: #D2E3FC;\n",
              "    }\n",
              "\n",
              "    [theme=dark] .colab-df-convert:hover {\n",
              "      background-color: #434B5C;\n",
              "      box-shadow: 0px 1px 3px 1px rgba(0, 0, 0, 0.15);\n",
              "      filter: drop-shadow(0px 1px 2px rgba(0, 0, 0, 0.3));\n",
              "      fill: #FFFFFF;\n",
              "    }\n",
              "  </style>\n",
              "\n",
              "    <script>\n",
              "      const buttonEl =\n",
              "        document.querySelector('#df-4b49cd67-c734-4b8c-9426-94df8644cb0b button.colab-df-convert');\n",
              "      buttonEl.style.display =\n",
              "        google.colab.kernel.accessAllowed ? 'block' : 'none';\n",
              "\n",
              "      async function convertToInteractive(key) {\n",
              "        const element = document.querySelector('#df-4b49cd67-c734-4b8c-9426-94df8644cb0b');\n",
              "        const dataTable =\n",
              "          await google.colab.kernel.invokeFunction('convertToInteractive',\n",
              "                                                    [key], {});\n",
              "        if (!dataTable) return;\n",
              "\n",
              "        const docLinkHtml = 'Like what you see? Visit the ' +\n",
              "          '<a target=\"_blank\" href=https://colab.research.google.com/notebooks/data_table.ipynb>data table notebook</a>'\n",
              "          + ' to learn more about interactive tables.';\n",
              "        element.innerHTML = '';\n",
              "        dataTable['output_type'] = 'display_data';\n",
              "        await google.colab.output.renderOutput(dataTable, element);\n",
              "        const docLink = document.createElement('div');\n",
              "        docLink.innerHTML = docLinkHtml;\n",
              "        element.appendChild(docLink);\n",
              "      }\n",
              "    </script>\n",
              "  </div>\n",
              "\n",
              "\n",
              "<div id=\"df-cb7d4864-8dee-4d08-b88a-a2cbb31379b6\">\n",
              "  <button class=\"colab-df-quickchart\" onclick=\"quickchart('df-cb7d4864-8dee-4d08-b88a-a2cbb31379b6')\"\n",
              "            title=\"Suggest charts\"\n",
              "            style=\"display:none;\">\n",
              "\n",
              "<svg xmlns=\"http://www.w3.org/2000/svg\" height=\"24px\"viewBox=\"0 0 24 24\"\n",
              "     width=\"24px\">\n",
              "    <g>\n",
              "        <path d=\"M19 3H5c-1.1 0-2 .9-2 2v14c0 1.1.9 2 2 2h14c1.1 0 2-.9 2-2V5c0-1.1-.9-2-2-2zM9 17H7v-7h2v7zm4 0h-2V7h2v10zm4 0h-2v-4h2v4z\"/>\n",
              "    </g>\n",
              "</svg>\n",
              "  </button>\n",
              "\n",
              "<style>\n",
              "  .colab-df-quickchart {\n",
              "      --bg-color: #E8F0FE;\n",
              "      --fill-color: #1967D2;\n",
              "      --hover-bg-color: #E2EBFA;\n",
              "      --hover-fill-color: #174EA6;\n",
              "      --disabled-fill-color: #AAA;\n",
              "      --disabled-bg-color: #DDD;\n",
              "  }\n",
              "\n",
              "  [theme=dark] .colab-df-quickchart {\n",
              "      --bg-color: #3B4455;\n",
              "      --fill-color: #D2E3FC;\n",
              "      --hover-bg-color: #434B5C;\n",
              "      --hover-fill-color: #FFFFFF;\n",
              "      --disabled-bg-color: #3B4455;\n",
              "      --disabled-fill-color: #666;\n",
              "  }\n",
              "\n",
              "  .colab-df-quickchart {\n",
              "    background-color: var(--bg-color);\n",
              "    border: none;\n",
              "    border-radius: 50%;\n",
              "    cursor: pointer;\n",
              "    display: none;\n",
              "    fill: var(--fill-color);\n",
              "    height: 32px;\n",
              "    padding: 0;\n",
              "    width: 32px;\n",
              "  }\n",
              "\n",
              "  .colab-df-quickchart:hover {\n",
              "    background-color: var(--hover-bg-color);\n",
              "    box-shadow: 0 1px 2px rgba(60, 64, 67, 0.3), 0 1px 3px 1px rgba(60, 64, 67, 0.15);\n",
              "    fill: var(--button-hover-fill-color);\n",
              "  }\n",
              "\n",
              "  .colab-df-quickchart-complete:disabled,\n",
              "  .colab-df-quickchart-complete:disabled:hover {\n",
              "    background-color: var(--disabled-bg-color);\n",
              "    fill: var(--disabled-fill-color);\n",
              "    box-shadow: none;\n",
              "  }\n",
              "\n",
              "  .colab-df-spinner {\n",
              "    border: 2px solid var(--fill-color);\n",
              "    border-color: transparent;\n",
              "    border-bottom-color: var(--fill-color);\n",
              "    animation:\n",
              "      spin 1s steps(1) infinite;\n",
              "  }\n",
              "\n",
              "  @keyframes spin {\n",
              "    0% {\n",
              "      border-color: transparent;\n",
              "      border-bottom-color: var(--fill-color);\n",
              "      border-left-color: var(--fill-color);\n",
              "    }\n",
              "    20% {\n",
              "      border-color: transparent;\n",
              "      border-left-color: var(--fill-color);\n",
              "      border-top-color: var(--fill-color);\n",
              "    }\n",
              "    30% {\n",
              "      border-color: transparent;\n",
              "      border-left-color: var(--fill-color);\n",
              "      border-top-color: var(--fill-color);\n",
              "      border-right-color: var(--fill-color);\n",
              "    }\n",
              "    40% {\n",
              "      border-color: transparent;\n",
              "      border-right-color: var(--fill-color);\n",
              "      border-top-color: var(--fill-color);\n",
              "    }\n",
              "    60% {\n",
              "      border-color: transparent;\n",
              "      border-right-color: var(--fill-color);\n",
              "    }\n",
              "    80% {\n",
              "      border-color: transparent;\n",
              "      border-right-color: var(--fill-color);\n",
              "      border-bottom-color: var(--fill-color);\n",
              "    }\n",
              "    90% {\n",
              "      border-color: transparent;\n",
              "      border-bottom-color: var(--fill-color);\n",
              "    }\n",
              "  }\n",
              "</style>\n",
              "\n",
              "  <script>\n",
              "    async function quickchart(key) {\n",
              "      const quickchartButtonEl =\n",
              "        document.querySelector('#' + key + ' button');\n",
              "      quickchartButtonEl.disabled = true;  // To prevent multiple clicks.\n",
              "      quickchartButtonEl.classList.add('colab-df-spinner');\n",
              "      try {\n",
              "        const charts = await google.colab.kernel.invokeFunction(\n",
              "            'suggestCharts', [key], {});\n",
              "      } catch (error) {\n",
              "        console.error('Error during call to suggestCharts:', error);\n",
              "      }\n",
              "      quickchartButtonEl.classList.remove('colab-df-spinner');\n",
              "      quickchartButtonEl.classList.add('colab-df-quickchart-complete');\n",
              "    }\n",
              "    (() => {\n",
              "      let quickchartButtonEl =\n",
              "        document.querySelector('#df-cb7d4864-8dee-4d08-b88a-a2cbb31379b6 button');\n",
              "      quickchartButtonEl.style.display =\n",
              "        google.colab.kernel.accessAllowed ? 'block' : 'none';\n",
              "    })();\n",
              "  </script>\n",
              "</div>\n",
              "\n",
              "    </div>\n",
              "  </div>\n"
            ],
            "application/vnd.google.colaboratory.intrinsic+json": {
              "type": "dataframe",
              "variable_name": "df_cleaned"
            }
          },
          "metadata": {},
          "execution_count": 105
        }
      ],
      "source": [
        "df_cleaned.head()"
      ]
    },
    {
      "cell_type": "markdown",
      "id": "db8bccec-7793-450b-8cfe-2e4fc71b5876",
      "metadata": {
        "id": "db8bccec-7793-450b-8cfe-2e4fc71b5876"
      },
      "source": [
        "### APPLYING FINAL ONE-HOT ENCODING TO CLEANED DATASET TO CONVERT THE REMAINING CATEGORICAL DATA TO NOMINAL DATASET"
      ]
    },
    {
      "cell_type": "code",
      "execution_count": 106,
      "id": "c509420b-97cb-4ceb-b0d4-e34c075cbe46",
      "metadata": {
        "colab": {
          "base_uri": "https://localhost:8080/"
        },
        "id": "c509420b-97cb-4ceb-b0d4-e34c075cbe46",
        "outputId": "b519a240-781e-42e0-e9ab-1cd73f5a5c0b"
      },
      "outputs": [
        {
          "output_type": "stream",
          "name": "stdout",
          "text": [
            "9\n",
            "['Company', 'Product', 'TypeName', 'CPU company', 'CPU series', 'CPU power Rating', 'GPU company', 'GPU series', 'Operating System']\n"
          ]
        }
      ],
      "source": [
        "df_encod = df_cleaned.copy()\n",
        "\n",
        "object_features = df_encod.select_dtypes(include = \"object\").columns.tolist()\n",
        "print(len(object_features))\n",
        "print(object_features)"
      ]
    },
    {
      "cell_type": "code",
      "execution_count": 107,
      "id": "4d01806d-82e0-459a-bd62-dcbde5b197c2",
      "metadata": {
        "colab": {
          "base_uri": "https://localhost:8080/"
        },
        "id": "4d01806d-82e0-459a-bd62-dcbde5b197c2",
        "outputId": "bfe7ff43-a0ec-452e-c2bc-ac94d504e4f7"
      },
      "outputs": [
        {
          "output_type": "stream",
          "name": "stdout",
          "text": [
            "Shape of df before encoding:  (1302, 34)\n",
            "Shape of df after encoding:  (1302, 816)\n"
          ]
        }
      ],
      "source": [
        "print(\"Shape of df before encoding: \", df_encod.shape)\n",
        "\n",
        "df_encod = pd.get_dummies(df_encod,\n",
        "               columns=object_features,\n",
        "               prefix = object_features,\n",
        "               drop_first = True).astype(int)\n",
        "\n",
        "print(\"Shape of df after encoding: \", df_encod.shape)"
      ]
    },
    {
      "cell_type": "code",
      "execution_count": 108,
      "id": "c563c3a7-d88d-4e39-aeee-103df038f5ad",
      "metadata": {
        "id": "c563c3a7-d88d-4e39-aeee-103df038f5ad"
      },
      "outputs": [],
      "source": [
        "df = df_encod.copy()"
      ]
    },
    {
      "cell_type": "markdown",
      "id": "9c0d697e-7b15-4243-b6e6-01023120509a",
      "metadata": {
        "id": "9c0d697e-7b15-4243-b6e6-01023120509a"
      },
      "source": [
        "## Splitting the dataset into X and Y for training and testing"
      ]
    },
    {
      "cell_type": "code",
      "execution_count": 109,
      "id": "1810d496-63ca-4d29-aba7-a20a7e477004",
      "metadata": {
        "id": "1810d496-63ca-4d29-aba7-a20a7e477004"
      },
      "outputs": [],
      "source": [
        "X = df.drop(columns = \"Price (INR)\")\n",
        "y = df['Price (INR)']"
      ]
    },
    {
      "cell_type": "code",
      "execution_count": 110,
      "id": "3be24e82-4c0e-48e2-b2fc-3d065da2125f",
      "metadata": {
        "id": "3be24e82-4c0e-48e2-b2fc-3d065da2125f"
      },
      "outputs": [],
      "source": [
        "X_train, X_test, y_train, y_test = train_test_split(X,y, test_size=0.2, random_state=42)"
      ]
    },
    {
      "cell_type": "markdown",
      "id": "05ff0f74-aa8d-4257-86ca-2378f6d59efd",
      "metadata": {
        "id": "05ff0f74-aa8d-4257-86ca-2378f6d59efd"
      },
      "source": [
        "## Feature Scaling"
      ]
    },
    {
      "cell_type": "code",
      "execution_count": 111,
      "id": "b4caeff1-d6dc-4968-b0b2-01e1a6f8a99c",
      "metadata": {
        "id": "b4caeff1-d6dc-4968-b0b2-01e1a6f8a99c"
      },
      "outputs": [],
      "source": [
        "sc = StandardScaler()\n",
        "sc.fit(X_train)\n",
        "X_train = sc.transform(X_train)\n",
        "X_test = sc.transform(X_test)"
      ]
    },
    {
      "cell_type": "markdown",
      "id": "68d32bc2-d1d5-4e69-9595-57977e975f75",
      "metadata": {
        "id": "68d32bc2-d1d5-4e69-9595-57977e975f75"
      },
      "source": [
        "## Training Multiple Models - Pre-requisites"
      ]
    },
    {
      "cell_type": "code",
      "execution_count": 112,
      "id": "3d7fbdb0-21d8-41a4-946e-f73b4f937d06",
      "metadata": {
        "id": "3d7fbdb0-21d8-41a4-946e-f73b4f937d06"
      },
      "outputs": [],
      "source": [
        "from sklearn.metrics import mean_squared_error, mean_absolute_error, r2_score"
      ]
    },
    {
      "cell_type": "code",
      "execution_count": 113,
      "id": "fe27f031-a594-4bad-8cd4-cada4f0375b9",
      "metadata": {
        "id": "fe27f031-a594-4bad-8cd4-cada4f0375b9"
      },
      "outputs": [],
      "source": [
        "# Function to get metrics\n",
        "def get_metrics(y_test, y_pred, model_name):\n",
        "    MSE = mean_squared_error(y_test, y_pred)\n",
        "    RMSE = np.sqrt(MSE)\n",
        "    MAE = mean_absolute_error(y_test, y_pred)\n",
        "    R2 = r2_score(y_test, y_pred)\n",
        "\n",
        "    print(f\"{model_name} : ['MSE': {round(MSE, 3)}, 'RMSE': {round(RMSE, 3)}, 'MAE': {round(MAE, 3)}, 'R2': {round(R2, 3)}]\")"
      ]
    },
    {
      "cell_type": "markdown",
      "id": "8e876534-066c-47a9-9d11-302132d0b4b4",
      "metadata": {
        "id": "8e876534-066c-47a9-9d11-302132d0b4b4"
      },
      "source": [
        "## Training Multiple Models"
      ]
    },
    {
      "cell_type": "code",
      "execution_count": 114,
      "id": "1f4f407d-01ee-471a-9231-0099c56d4da6",
      "metadata": {
        "id": "1f4f407d-01ee-471a-9231-0099c56d4da6"
      },
      "outputs": [],
      "source": [
        "from sklearn.linear_model import LinearRegression, Ridge, Lasso\n",
        "from sklearn.preprocessing import PolynomialFeatures\n",
        "from sklearn.svm import SVR\n",
        "from sklearn.neighbors import KNeighborsRegressor\n",
        "from sklearn.tree import DecisionTreeRegressor\n",
        "from sklearn.ensemble import RandomForestRegressor\n",
        "from xgboost import XGBRegressor"
      ]
    },
    {
      "cell_type": "code",
      "execution_count": 115,
      "id": "0df544d7-f71e-45fd-afd9-1573f08884c8",
      "metadata": {
        "colab": {
          "base_uri": "https://localhost:8080/"
        },
        "id": "0df544d7-f71e-45fd-afd9-1573f08884c8",
        "outputId": "4a703877-e8b7-431c-eec4-f07d567afb15"
      },
      "outputs": [
        {
          "output_type": "stream",
          "name": "stderr",
          "text": [
            "/usr/local/lib/python3.10/dist-packages/sklearn/linear_model/_coordinate_descent.py:697: ConvergenceWarning: Objective did not converge. You might want to increase the number of iterations, check the scale of the features or consider increasing regularisation. Duality gap: 2.978e+10, tolerance: 4.223e+08\n",
            "  model = cd_fast.enet_coordinate_descent(\n"
          ]
        }
      ],
      "source": [
        "# Training Ridge and Lasso Regression\n",
        "rir = Ridge().fit(X_train, y_train)\n",
        "y_pred_rir = rir.predict(X_test)\n",
        "\n",
        "lar = Lasso().fit(X_train, y_train)\n",
        "y_pred_lar = lar.predict(X_test)\n"
      ]
    },
    {
      "cell_type": "markdown",
      "id": "a93ed619-e238-4663-a9b3-726ba1772ce2",
      "metadata": {
        "id": "a93ed619-e238-4663-a9b3-726ba1772ce2"
      },
      "source": [
        "### Scores after models are trained"
      ]
    },
    {
      "cell_type": "code",
      "execution_count": 116,
      "id": "f9609c96-ec44-4568-8662-488658843a4a",
      "metadata": {
        "colab": {
          "base_uri": "https://localhost:8080/"
        },
        "id": "f9609c96-ec44-4568-8662-488658843a4a",
        "outputId": "9c052829-55eb-4868-a609-6867ec51dff7"
      },
      "outputs": [
        {
          "output_type": "stream",
          "name": "stdout",
          "text": [
            "Ridge : ['MSE': 681947004.825, 'RMSE': 26114.115, 'MAE': 17393.525, 'R2': 0.838]\n",
            "Lasso : ['MSE': 827301106.469, 'RMSE': 28762.842, 'MAE': 18126.707, 'R2': 0.804]\n"
          ]
        }
      ],
      "source": [
        "# Get metrics for each model\n",
        "\n",
        "get_metrics(y_test, y_pred_rir, \"Ridge\")\n",
        "get_metrics(y_test, y_pred_lar, \"Lasso\")"
      ]
    },
    {
      "cell_type": "code",
      "source": [
        "# # Polynomial Regression\n",
        "# poly = PolynomialFeatures(2)\n",
        "# X_train_poly = poly.fit_transform(X_train)\n",
        "# X_test_poly = poly.transform(X_test)\n",
        "\n",
        "# poly_r = LinearRegression().fit(X_train_poly, y_train)\n",
        "# y_pred_poly = poly_r.predict(X_test_poly)"
      ],
      "metadata": {
        "id": "z8lRxHCp9D9u"
      },
      "id": "z8lRxHCp9D9u",
      "execution_count": 117,
      "outputs": []
    },
    {
      "cell_type": "code",
      "source": [
        "# get_metrics(y_test, y_pred_poly, \"PolynomialFeatures\")"
      ],
      "metadata": {
        "id": "weicZveE9EAq"
      },
      "id": "weicZveE9EAq",
      "execution_count": 118,
      "outputs": []
    },
    {
      "cell_type": "code",
      "source": [
        "# Support Vector Regression\n",
        "svr = SVR().fit(X_train, y_train)\n",
        "y_pred_svr = svr.predict(X_test)"
      ],
      "metadata": {
        "id": "WSvDNDTg9EEH"
      },
      "id": "WSvDNDTg9EEH",
      "execution_count": 119,
      "outputs": []
    },
    {
      "cell_type": "code",
      "source": [
        "get_metrics(y_test, y_pred_svr, \"SVR\")"
      ],
      "metadata": {
        "colab": {
          "base_uri": "https://localhost:8080/"
        },
        "id": "jQe-Z8Oc9EHK",
        "outputId": "0386f18c-3d74-40ad-a335-35a2985299b9"
      },
      "id": "jQe-Z8Oc9EHK",
      "execution_count": 120,
      "outputs": [
        {
          "output_type": "stream",
          "name": "stdout",
          "text": [
            "SVR : ['MSE': 4322926483.215, 'RMSE': 65748.966, 'MAE': 46662.632, 'R2': -0.026]\n"
          ]
        }
      ]
    },
    {
      "cell_type": "code",
      "source": [
        "# KNeighbors Regressor\n",
        "knnr = KNeighborsRegressor().fit(X_train, y_train)\n",
        "y_pred_knnr = knnr.predict(X_test)"
      ],
      "metadata": {
        "id": "3qfFLAuY9EJy"
      },
      "id": "3qfFLAuY9EJy",
      "execution_count": 121,
      "outputs": []
    },
    {
      "cell_type": "code",
      "source": [
        "get_metrics(y_test, y_pred_knnr, \"KNeighborsRegressor\")"
      ],
      "metadata": {
        "colab": {
          "base_uri": "https://localhost:8080/"
        },
        "id": "ebuXXrav9EMo",
        "outputId": "c87ad972-37ed-4d76-ecdd-815ea121676f"
      },
      "id": "ebuXXrav9EMo",
      "execution_count": 122,
      "outputs": [
        {
          "output_type": "stream",
          "name": "stdout",
          "text": [
            "KNeighborsRegressor : ['MSE': 1401810939.628, 'RMSE': 37440.766, 'MAE': 25113.654, 'R2': 0.667]\n"
          ]
        }
      ]
    },
    {
      "cell_type": "code",
      "source": [
        "# Decision Tree Regressor\n",
        "dtr = DecisionTreeRegressor().fit(X_train, y_train)\n",
        "y_pred_dtr = dtr.predict(X_test)"
      ],
      "metadata": {
        "id": "Hpw6NsIU9EPW"
      },
      "id": "Hpw6NsIU9EPW",
      "execution_count": 123,
      "outputs": []
    },
    {
      "cell_type": "code",
      "source": [
        "get_metrics(y_test, y_pred_dtr, \"DecisionTreeRegressor\")"
      ],
      "metadata": {
        "colab": {
          "base_uri": "https://localhost:8080/"
        },
        "id": "KnoceZro9ESS",
        "outputId": "45f0a23d-614a-424e-8543-e245a7b417df"
      },
      "id": "KnoceZro9ESS",
      "execution_count": 124,
      "outputs": [
        {
          "output_type": "stream",
          "name": "stdout",
          "text": [
            "DecisionTreeRegressor : ['MSE': 1039883614.618, 'RMSE': 32247.226, 'MAE': 18958.4, 'R2': 0.753]\n"
          ]
        }
      ]
    },
    {
      "cell_type": "code",
      "source": [
        "# Random Forest Regressor\n",
        "rfr = RandomForestRegressor().fit(X_train, y_train)\n",
        "y_pred_rfr = rfr.predict(X_test)"
      ],
      "metadata": {
        "id": "6sSD7ual9EVR"
      },
      "id": "6sSD7ual9EVR",
      "execution_count": 125,
      "outputs": []
    },
    {
      "cell_type": "code",
      "source": [
        "get_metrics(y_test, y_pred_rfr, \"RandomForestRegressor\")"
      ],
      "metadata": {
        "colab": {
          "base_uri": "https://localhost:8080/"
        },
        "id": "2PJc7nHz9EX4",
        "outputId": "fbbc1180-641b-4e45-d928-33bdd10bdaed"
      },
      "id": "2PJc7nHz9EX4",
      "execution_count": 126,
      "outputs": [
        {
          "output_type": "stream",
          "name": "stdout",
          "text": [
            "RandomForestRegressor : ['MSE': 794765865.653, 'RMSE': 28191.592, 'MAE': 17838.585, 'R2': 0.811]\n"
          ]
        }
      ]
    },
    {
      "cell_type": "code",
      "source": [
        "# XGBoost Regressor\n",
        "xgbr = XGBRegressor().fit(X_train, y_train)\n",
        "y_pred_xgbr = xgbr.predict(X_test)"
      ],
      "metadata": {
        "id": "jmfkhiE79Xh9"
      },
      "id": "jmfkhiE79Xh9",
      "execution_count": 127,
      "outputs": []
    },
    {
      "cell_type": "code",
      "source": [
        "get_metrics(y_test, y_pred_xgbr, \"XGBRegressor\")"
      ],
      "metadata": {
        "colab": {
          "base_uri": "https://localhost:8080/"
        },
        "id": "JTc4B6FH9Xll",
        "outputId": "ac519cc3-ef9a-4896-ded4-15e577354679"
      },
      "id": "JTc4B6FH9Xll",
      "execution_count": 128,
      "outputs": [
        {
          "output_type": "stream",
          "name": "stdout",
          "text": [
            "XGBRegressor : ['MSE': 595697211.696, 'RMSE': 24406.909, 'MAE': 16269.637, 'R2': 0.859]\n"
          ]
        }
      ]
    },
    {
      "cell_type": "code",
      "source": [
        "# Gradient Boosting Regressor\n",
        "from sklearn.ensemble import GradientBoostingRegressor\n",
        "gbr = GradientBoostingRegressor().fit(X_train, y_train)\n",
        "y_pred_gbr = gbr.predict(X_test)\n",
        "get_metrics(y_test, y_pred_gbr, \"GradientBoostingRegressor\")"
      ],
      "metadata": {
        "colab": {
          "base_uri": "https://localhost:8080/"
        },
        "id": "4OrKBPrMIdhC",
        "outputId": "d446fdee-abc3-41c6-cf1f-3a37a04a7d26"
      },
      "id": "4OrKBPrMIdhC",
      "execution_count": 129,
      "outputs": [
        {
          "output_type": "stream",
          "name": "stdout",
          "text": [
            "GradientBoostingRegressor : ['MSE': 713907379.371, 'RMSE': 26719.045, 'MAE': 19285.856, 'R2': 0.831]\n"
          ]
        }
      ]
    },
    {
      "cell_type": "code",
      "source": [
        "# AdaBoost Regressor\n",
        "from sklearn.ensemble import AdaBoostRegressor\n",
        "abr = AdaBoostRegressor().fit(X_train, y_train)\n",
        "y_pred_abr = abr.predict(X_test)\n",
        "get_metrics(y_test, y_pred_abr, \"AdaBoostRegressor\")"
      ],
      "metadata": {
        "colab": {
          "base_uri": "https://localhost:8080/"
        },
        "id": "_U-nlcEWIdkm",
        "outputId": "a2c1cc15-9605-44d7-a704-4b5acadb1d8f"
      },
      "id": "_U-nlcEWIdkm",
      "execution_count": 130,
      "outputs": [
        {
          "output_type": "stream",
          "name": "stdout",
          "text": [
            "AdaBoostRegressor : ['MSE': 1776240036.977, 'RMSE': 42145.463, 'MAE': 35497.699, 'R2': 0.578]\n"
          ]
        }
      ]
    },
    {
      "cell_type": "code",
      "source": [
        "# Extra Trees Regressor\n",
        "from sklearn.ensemble import ExtraTreesRegressor\n",
        "etr = ExtraTreesRegressor().fit(X_train, y_train)\n",
        "y_pred_etr = etr.predict(X_test)\n",
        "get_metrics(y_test, y_pred_etr, \"ExtraTreesRegressor\")"
      ],
      "metadata": {
        "colab": {
          "base_uri": "https://localhost:8080/"
        },
        "id": "hf2iQKTpIdoF",
        "outputId": "6fd76f95-a3b5-497a-d82d-61c770634245"
      },
      "id": "hf2iQKTpIdoF",
      "execution_count": 131,
      "outputs": [
        {
          "output_type": "stream",
          "name": "stdout",
          "text": [
            "ExtraTreesRegressor : ['MSE': 626664720.68, 'RMSE': 25033.272, 'MAE': 16318.78, 'R2': 0.851]\n"
          ]
        }
      ]
    },
    {
      "cell_type": "code",
      "source": [
        "# LightGBM Regressor\n",
        "from lightgbm import LGBMRegressor\n",
        "lgbmr = LGBMRegressor().fit(X_train, y_train)\n",
        "y_pred_lgbmr = lgbmr.predict(X_test)\n",
        "get_metrics(y_test, y_pred_lgbmr, \"LGBMRegressor\")"
      ],
      "metadata": {
        "colab": {
          "base_uri": "https://localhost:8080/"
        },
        "id": "AnB7BtxVIdrQ",
        "outputId": "6b601fa2-c784-4390-b1ca-b3030fa3ab6c"
      },
      "id": "AnB7BtxVIdrQ",
      "execution_count": 132,
      "outputs": [
        {
          "output_type": "stream",
          "name": "stderr",
          "text": [
            "/usr/local/lib/python3.10/dist-packages/dask/dataframe/__init__.py:42: FutureWarning: \n",
            "Dask dataframe query planning is disabled because dask-expr is not installed.\n",
            "\n",
            "You can install it with `pip install dask[dataframe]` or `conda install dask`.\n",
            "This will raise in a future version.\n",
            "\n",
            "  warnings.warn(msg, FutureWarning)\n"
          ]
        },
        {
          "output_type": "stream",
          "name": "stdout",
          "text": [
            "[LightGBM] [Info] Auto-choosing row-wise multi-threading, the overhead of testing was 0.001434 seconds.\n",
            "You can set `force_row_wise=true` to remove the overhead.\n",
            "And if memory is not enough, you can set `force_col_wise=true`.\n",
            "[LightGBM] [Info] Total Bins 191\n",
            "[LightGBM] [Info] Number of data points in the train set: 1041, number of used features: 55\n",
            "[LightGBM] [Info] Start training from score 103417.184438\n",
            "LGBMRegressor : ['MSE': 955077536.404, 'RMSE': 30904.329, 'MAE': 19017.653, 'R2': 0.773]\n"
          ]
        }
      ]
    },
    {
      "cell_type": "code",
      "source": [
        "# CatBoost Regressor\n",
        "from catboost import CatBoostRegressor\n",
        "cbr = CatBoostRegressor(verbose=0).fit(X_train, y_train)\n",
        "y_pred_cbr = cbr.predict(X_test)\n",
        "get_metrics(y_test, y_pred_cbr, \"CatBoostRegressor\")"
      ],
      "metadata": {
        "colab": {
          "base_uri": "https://localhost:8080/"
        },
        "id": "F1d8BnbDIduO",
        "outputId": "1cab8192-7029-4be6-ba14-4eed3703c6fe"
      },
      "id": "F1d8BnbDIduO",
      "execution_count": 135,
      "outputs": [
        {
          "output_type": "stream",
          "name": "stdout",
          "text": [
            "CatBoostRegressor : ['MSE': 575253050.594, 'RMSE': 23984.434, 'MAE': 16048.011, 'R2': 0.863]\n"
          ]
        }
      ]
    },
    {
      "cell_type": "code",
      "source": [
        "# ElasticNet Regression\n",
        "from sklearn.linear_model import ElasticNet\n",
        "en = ElasticNet().fit(X_train, y_train)\n",
        "y_pred_en = en.predict(X_test)\n",
        "get_metrics(y_test, y_pred_en, \"ElasticNet\")"
      ],
      "metadata": {
        "colab": {
          "base_uri": "https://localhost:8080/"
        },
        "id": "wZxwxa-3IdxJ",
        "outputId": "4cae77d1-e4e5-4a31-9de5-77440d8b4ce6"
      },
      "id": "wZxwxa-3IdxJ",
      "execution_count": 136,
      "outputs": [
        {
          "output_type": "stream",
          "name": "stdout",
          "text": [
            "ElasticNet : ['MSE': 605952247.627, 'RMSE': 24616.097, 'MAE': 16413.612, 'R2': 0.856]\n"
          ]
        }
      ]
    },
    {
      "cell_type": "code",
      "source": [
        "# Huber Regressor\n",
        "from sklearn.linear_model import HuberRegressor\n",
        "hr = HuberRegressor().fit(X_train, y_train)\n",
        "y_pred_hr = hr.predict(X_test)\n",
        "get_metrics(y_test, y_pred_hr, \"HuberRegressor\")"
      ],
      "metadata": {
        "colab": {
          "base_uri": "https://localhost:8080/"
        },
        "id": "OtBkakcRId0I",
        "outputId": "89e30318-622f-4bdc-c97b-63355d6825b4"
      },
      "id": "OtBkakcRId0I",
      "execution_count": 137,
      "outputs": [
        {
          "output_type": "stream",
          "name": "stdout",
          "text": [
            "HuberRegressor : ['MSE': 720434323.396, 'RMSE': 26840.908, 'MAE': 16991.545, 'R2': 0.829]\n"
          ]
        },
        {
          "output_type": "stream",
          "name": "stderr",
          "text": [
            "/usr/local/lib/python3.10/dist-packages/sklearn/linear_model/_huber.py:342: ConvergenceWarning: lbfgs failed to converge (status=1):\n",
            "STOP: TOTAL NO. of ITERATIONS REACHED LIMIT.\n",
            "\n",
            "Increase the number of iterations (max_iter) or scale the data as shown in:\n",
            "    https://scikit-learn.org/stable/modules/preprocessing.html\n",
            "  self.n_iter_ = _check_optimize_result(\"lbfgs\", opt_res, self.max_iter)\n"
          ]
        }
      ]
    },
    {
      "cell_type": "code",
      "source": [],
      "metadata": {
        "id": "_0Phh0L0Id2z"
      },
      "id": "_0Phh0L0Id2z",
      "execution_count": null,
      "outputs": []
    },
    {
      "cell_type": "code",
      "source": [],
      "metadata": {
        "id": "dRqaexetId9l"
      },
      "id": "dRqaexetId9l",
      "execution_count": null,
      "outputs": []
    },
    {
      "cell_type": "code",
      "source": [],
      "metadata": {
        "id": "2uuHfer9IeAl"
      },
      "id": "2uuHfer9IeAl",
      "execution_count": null,
      "outputs": []
    },
    {
      "cell_type": "code",
      "source": [],
      "metadata": {
        "id": "U1dRgHWVIeDo"
      },
      "id": "U1dRgHWVIeDo",
      "execution_count": null,
      "outputs": []
    },
    {
      "cell_type": "markdown",
      "id": "5cd77c5b-482a-4963-a2f6-5050f9fe43b3",
      "metadata": {
        "id": "5cd77c5b-482a-4963-a2f6-5050f9fe43b3"
      },
      "source": [
        "# Best Model for this case: CatBoostRegressor with 'R2': 0.863"
      ]
    },
    {
      "cell_type": "code",
      "execution_count": null,
      "id": "3500204b-7416-45ca-a19b-838d6bca185d",
      "metadata": {
        "id": "3500204b-7416-45ca-a19b-838d6bca185d"
      },
      "outputs": [],
      "source": [
        "plt.scatter(y_test, y_pred_lar)\n",
        "plt.title(\"Lasso Regression: Ground Truth vs Prediction\")\n",
        "plt.xlabel(\"Ground Truth\")\n",
        "plt.ylabel(\"Prediction\")\n",
        "plt.show()"
      ]
    },
    {
      "cell_type": "code",
      "source": [
        "plt.scatter(y_test, y_pred_rfr)\n",
        "plt.title(\"Random Forest Regression: Ground Truth vs Prediction\")\n",
        "plt.xlabel(\"Ground Truth\")\n",
        "plt.ylabel(\"Prediction\")\n",
        "plt.show()"
      ],
      "metadata": {
        "id": "GiNKWWQTHfbp"
      },
      "id": "GiNKWWQTHfbp",
      "execution_count": null,
      "outputs": []
    },
    {
      "cell_type": "code",
      "source": [
        "plt.scatter(y_test, y_pred_xgbr)\n",
        "plt.title(\"XGB Regression: Ground Truth vs Prediction\")\n",
        "plt.xlabel(\"Ground Truth\")\n",
        "plt.ylabel(\"Prediction\")\n",
        "plt.show()"
      ],
      "metadata": {
        "id": "aFfynDzDHib4"
      },
      "id": "aFfynDzDHib4",
      "execution_count": null,
      "outputs": []
    },
    {
      "cell_type": "code",
      "source": [],
      "metadata": {
        "id": "kZOQcHhRHqEp"
      },
      "id": "kZOQcHhRHqEp",
      "execution_count": null,
      "outputs": []
    }
  ],
  "metadata": {
    "kernelspec": {
      "display_name": "Python 3 (ipykernel)",
      "language": "python",
      "name": "python3"
    },
    "language_info": {
      "codemirror_mode": {
        "name": "ipython",
        "version": 3
      },
      "file_extension": ".py",
      "mimetype": "text/x-python",
      "name": "python",
      "nbconvert_exporter": "python",
      "pygments_lexer": "ipython3",
      "version": "3.12.4"
    },
    "colab": {
      "provenance": []
    }
  },
  "nbformat": 4,
  "nbformat_minor": 5
}