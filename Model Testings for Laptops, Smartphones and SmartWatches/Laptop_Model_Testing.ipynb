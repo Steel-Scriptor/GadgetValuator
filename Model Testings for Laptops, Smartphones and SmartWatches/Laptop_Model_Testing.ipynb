{
 "cells": [
  {
   "cell_type": "code",
   "execution_count": 1,
   "id": "d83e8eb2-5d7c-4e4f-b52d-efaa8ccfea0f",
   "metadata": {
    "id": "d83e8eb2-5d7c-4e4f-b52d-efaa8ccfea0f"
   },
   "outputs": [],
   "source": [
    "import numpy as np\n",
    "import pandas as pd\n",
    "import matplotlib.pyplot as plt\n",
    "import seaborn as sb\n",
    "from sklearn.preprocessing import LabelEncoder\n",
    "from sklearn.preprocessing import StandardScaler\n",
    "from sklearn.model_selection import train_test_split"
   ]
  },
  {
   "cell_type": "code",
   "execution_count": 2,
   "id": "d316082d-9389-4bcc-8b5d-2e37c0f1e82e",
   "metadata": {
    "id": "d316082d-9389-4bcc-8b5d-2e37c0f1e82e"
   },
   "outputs": [],
   "source": [
    "df_cleaned = pd.read_csv(r\"C:\\Users\\DeLL\\Desktop\\WOW ML!!!\\GadgetValuator VP\\Laptop\\cleaned_laptop_data_set.csv\")"
   ]
  },
  {
   "cell_type": "code",
   "execution_count": 3,
   "id": "3a427340-7590-4748-8098-ea5f740acee9",
   "metadata": {
    "colab": {
     "base_uri": "https://localhost:8080/",
     "height": 481
    },
    "id": "3a427340-7590-4748-8098-ea5f740acee9",
    "outputId": "dc34741b-51dc-41ad-b6f0-81c0c31b2f59"
   },
   "outputs": [
    {
     "data": {
      "text/html": [
       "<div>\n",
       "<style scoped>\n",
       "    .dataframe tbody tr th:only-of-type {\n",
       "        vertical-align: middle;\n",
       "    }\n",
       "\n",
       "    .dataframe tbody tr th {\n",
       "        vertical-align: top;\n",
       "    }\n",
       "\n",
       "    .dataframe thead th {\n",
       "        text-align: right;\n",
       "    }\n",
       "</style>\n",
       "<table border=\"1\" class=\"dataframe\">\n",
       "  <thead>\n",
       "    <tr style=\"text-align: right;\">\n",
       "      <th></th>\n",
       "      <th>Company</th>\n",
       "      <th>Product</th>\n",
       "      <th>TypeName</th>\n",
       "      <th>Screen Size (inches)</th>\n",
       "      <th>Resolution</th>\n",
       "      <th>IPS Panel</th>\n",
       "      <th>Retina Display</th>\n",
       "      <th>Full HD</th>\n",
       "      <th>CPU company</th>\n",
       "      <th>CPU series</th>\n",
       "      <th>...</th>\n",
       "      <th>RAM (GB)</th>\n",
       "      <th>SSD (GB)</th>\n",
       "      <th>Flash Storage (GB)</th>\n",
       "      <th>HDD (GB)</th>\n",
       "      <th>SSHD (Hybrid, GB)</th>\n",
       "      <th>GPU company</th>\n",
       "      <th>GPU series</th>\n",
       "      <th>Operating System</th>\n",
       "      <th>Weight</th>\n",
       "      <th>Price (INR)</th>\n",
       "    </tr>\n",
       "  </thead>\n",
       "  <tbody>\n",
       "    <tr>\n",
       "      <th>0</th>\n",
       "      <td>Apple</td>\n",
       "      <td>MacBook Pro</td>\n",
       "      <td>Ultrabook</td>\n",
       "      <td>13.3</td>\n",
       "      <td>2560x1600</td>\n",
       "      <td>0</td>\n",
       "      <td>0</td>\n",
       "      <td>0</td>\n",
       "      <td>Intel</td>\n",
       "      <td>i5</td>\n",
       "      <td>...</td>\n",
       "      <td>8</td>\n",
       "      <td>128.0</td>\n",
       "      <td>0.0</td>\n",
       "      <td>0.0</td>\n",
       "      <td>0.0</td>\n",
       "      <td>Intel</td>\n",
       "      <td>Iris Plus Graphics 640</td>\n",
       "      <td>Mac OS (New)</td>\n",
       "      <td>1.37</td>\n",
       "      <td>122582</td>\n",
       "    </tr>\n",
       "    <tr>\n",
       "      <th>1</th>\n",
       "      <td>Apple</td>\n",
       "      <td>Macbook Air</td>\n",
       "      <td>Ultrabook</td>\n",
       "      <td>13.3</td>\n",
       "      <td>1440x900</td>\n",
       "      <td>0</td>\n",
       "      <td>0</td>\n",
       "      <td>0</td>\n",
       "      <td>Intel</td>\n",
       "      <td>i5</td>\n",
       "      <td>...</td>\n",
       "      <td>8</td>\n",
       "      <td>0.0</td>\n",
       "      <td>0.0</td>\n",
       "      <td>0.0</td>\n",
       "      <td>0.0</td>\n",
       "      <td>Intel</td>\n",
       "      <td>HD Graphics 6000</td>\n",
       "      <td>Mac OS (New)</td>\n",
       "      <td>1.34</td>\n",
       "      <td>82253</td>\n",
       "    </tr>\n",
       "    <tr>\n",
       "      <th>2</th>\n",
       "      <td>HP</td>\n",
       "      <td>250 G6</td>\n",
       "      <td>Notebook</td>\n",
       "      <td>15.6</td>\n",
       "      <td>1920x1080</td>\n",
       "      <td>0</td>\n",
       "      <td>0</td>\n",
       "      <td>0</td>\n",
       "      <td>Intel</td>\n",
       "      <td>i5</td>\n",
       "      <td>...</td>\n",
       "      <td>8</td>\n",
       "      <td>256.0</td>\n",
       "      <td>0.0</td>\n",
       "      <td>0.0</td>\n",
       "      <td>0.0</td>\n",
       "      <td>Intel</td>\n",
       "      <td>HD Graphics 620</td>\n",
       "      <td>Windows 10</td>\n",
       "      <td>1.86</td>\n",
       "      <td>52612</td>\n",
       "    </tr>\n",
       "    <tr>\n",
       "      <th>3</th>\n",
       "      <td>Apple</td>\n",
       "      <td>MacBook Pro</td>\n",
       "      <td>Ultrabook</td>\n",
       "      <td>15.4</td>\n",
       "      <td>2880x1800</td>\n",
       "      <td>0</td>\n",
       "      <td>0</td>\n",
       "      <td>0</td>\n",
       "      <td>Intel</td>\n",
       "      <td>i7</td>\n",
       "      <td>...</td>\n",
       "      <td>16</td>\n",
       "      <td>512.0</td>\n",
       "      <td>0.0</td>\n",
       "      <td>0.0</td>\n",
       "      <td>0.0</td>\n",
       "      <td>AMD</td>\n",
       "      <td>Radeon Pro 455</td>\n",
       "      <td>Mac OS (New)</td>\n",
       "      <td>1.83</td>\n",
       "      <td>232177</td>\n",
       "    </tr>\n",
       "    <tr>\n",
       "      <th>4</th>\n",
       "      <td>Apple</td>\n",
       "      <td>MacBook Pro</td>\n",
       "      <td>Ultrabook</td>\n",
       "      <td>13.3</td>\n",
       "      <td>2560x1600</td>\n",
       "      <td>0</td>\n",
       "      <td>0</td>\n",
       "      <td>0</td>\n",
       "      <td>Intel</td>\n",
       "      <td>i5</td>\n",
       "      <td>...</td>\n",
       "      <td>8</td>\n",
       "      <td>256.0</td>\n",
       "      <td>0.0</td>\n",
       "      <td>0.0</td>\n",
       "      <td>0.0</td>\n",
       "      <td>Intel</td>\n",
       "      <td>Iris Plus Graphics 650</td>\n",
       "      <td>Mac OS (New)</td>\n",
       "      <td>1.37</td>\n",
       "      <td>165029</td>\n",
       "    </tr>\n",
       "  </tbody>\n",
       "</table>\n",
       "<p>5 rows × 22 columns</p>\n",
       "</div>"
      ],
      "text/plain": [
       "  Company      Product   TypeName  Screen Size (inches) Resolution  IPS Panel  \\\n",
       "0   Apple  MacBook Pro  Ultrabook                  13.3  2560x1600          0   \n",
       "1   Apple  Macbook Air  Ultrabook                  13.3   1440x900          0   \n",
       "2      HP       250 G6   Notebook                  15.6  1920x1080          0   \n",
       "3   Apple  MacBook Pro  Ultrabook                  15.4  2880x1800          0   \n",
       "4   Apple  MacBook Pro  Ultrabook                  13.3  2560x1600          0   \n",
       "\n",
       "   Retina Display  Full HD CPU company CPU series  ... RAM (GB)  SSD (GB)  \\\n",
       "0               0        0       Intel         i5  ...        8     128.0   \n",
       "1               0        0       Intel         i5  ...        8       0.0   \n",
       "2               0        0       Intel         i5  ...        8     256.0   \n",
       "3               0        0       Intel         i7  ...       16     512.0   \n",
       "4               0        0       Intel         i5  ...        8     256.0   \n",
       "\n",
       "   Flash Storage (GB)  HDD (GB)  SSHD (Hybrid, GB)  GPU company  \\\n",
       "0                 0.0       0.0                0.0        Intel   \n",
       "1                 0.0       0.0                0.0        Intel   \n",
       "2                 0.0       0.0                0.0        Intel   \n",
       "3                 0.0       0.0                0.0          AMD   \n",
       "4                 0.0       0.0                0.0        Intel   \n",
       "\n",
       "               GPU series Operating System Weight Price (INR)  \n",
       "0  Iris Plus Graphics 640     Mac OS (New)   1.37      122582  \n",
       "1        HD Graphics 6000     Mac OS (New)   1.34       82253  \n",
       "2         HD Graphics 620       Windows 10   1.86       52612  \n",
       "3          Radeon Pro 455     Mac OS (New)   1.83      232177  \n",
       "4  Iris Plus Graphics 650     Mac OS (New)   1.37      165029  \n",
       "\n",
       "[5 rows x 22 columns]"
      ]
     },
     "execution_count": 3,
     "metadata": {},
     "output_type": "execute_result"
    }
   ],
   "source": [
    "df_cleaned.head()"
   ]
  },
  {
   "cell_type": "markdown",
   "id": "db8bccec-7793-450b-8cfe-2e4fc71b5876",
   "metadata": {
    "id": "db8bccec-7793-450b-8cfe-2e4fc71b5876"
   },
   "source": [
    "### APPLYING FINAL ONE-HOT ENCODING TO CLEANED DATASET TO CONVERT THE REMAINING CATEGORICAL DATA TO NOMINAL DATASET"
   ]
  },
  {
   "cell_type": "code",
   "execution_count": 4,
   "id": "c509420b-97cb-4ceb-b0d4-e34c075cbe46",
   "metadata": {
    "colab": {
     "base_uri": "https://localhost:8080/"
    },
    "id": "c509420b-97cb-4ceb-b0d4-e34c075cbe46",
    "outputId": "b519a240-781e-42e0-e9ab-1cd73f5a5c0b"
   },
   "outputs": [
    {
     "name": "stdout",
     "output_type": "stream",
     "text": [
      "10\n",
      "['Company', 'Product', 'TypeName', 'Resolution', 'CPU company', 'CPU series', 'CPU power Rating', 'GPU company', 'GPU series', 'Operating System']\n"
     ]
    }
   ],
   "source": [
    "df_encod = df_cleaned.copy()\n",
    "\n",
    "object_features = df_encod.select_dtypes(include = \"object\").columns.tolist()\n",
    "print(len(object_features))\n",
    "print(object_features)"
   ]
  },
  {
   "cell_type": "code",
   "execution_count": 5,
   "id": "4d01806d-82e0-459a-bd62-dcbde5b197c2",
   "metadata": {
    "colab": {
     "base_uri": "https://localhost:8080/"
    },
    "id": "4d01806d-82e0-459a-bd62-dcbde5b197c2",
    "outputId": "bfe7ff43-a0ec-452e-c2bc-ac94d504e4f7"
   },
   "outputs": [
    {
     "name": "stdout",
     "output_type": "stream",
     "text": [
      "Shape of df before encoding:  (1302, 22)\n",
      "Shape of df after encoding:  (1302, 817)\n"
     ]
    }
   ],
   "source": [
    "print(\"Shape of df before encoding: \", df_encod.shape)\n",
    "\n",
    "df_encod = pd.get_dummies(df_encod,\n",
    "               columns=object_features,\n",
    "               prefix = object_features,\n",
    "               drop_first = True).astype(int)\n",
    "\n",
    "print(\"Shape of df after encoding: \", df_encod.shape)"
   ]
  },
  {
   "cell_type": "code",
   "execution_count": 6,
   "id": "c563c3a7-d88d-4e39-aeee-103df038f5ad",
   "metadata": {
    "id": "c563c3a7-d88d-4e39-aeee-103df038f5ad"
   },
   "outputs": [],
   "source": [
    "df = df_encod.copy()"
   ]
  },
  {
   "cell_type": "markdown",
   "id": "9c0d697e-7b15-4243-b6e6-01023120509a",
   "metadata": {
    "id": "9c0d697e-7b15-4243-b6e6-01023120509a"
   },
   "source": [
    "## Splitting the dataset into X and Y for training and testing"
   ]
  },
  {
   "cell_type": "code",
   "execution_count": 7,
   "id": "1810d496-63ca-4d29-aba7-a20a7e477004",
   "metadata": {
    "id": "1810d496-63ca-4d29-aba7-a20a7e477004"
   },
   "outputs": [],
   "source": [
    "X = df.drop(columns = \"Price (INR)\")\n",
    "y = df['Price (INR)']"
   ]
  },
  {
   "cell_type": "code",
   "execution_count": 8,
   "id": "3be24e82-4c0e-48e2-b2fc-3d065da2125f",
   "metadata": {
    "id": "3be24e82-4c0e-48e2-b2fc-3d065da2125f"
   },
   "outputs": [],
   "source": [
    "X_train, X_test, y_train, y_test = train_test_split(X,y, test_size=0.2, random_state=42)"
   ]
  },
  {
   "cell_type": "markdown",
   "id": "05ff0f74-aa8d-4257-86ca-2378f6d59efd",
   "metadata": {
    "id": "05ff0f74-aa8d-4257-86ca-2378f6d59efd"
   },
   "source": [
    "## Feature Scaling"
   ]
  },
  {
   "cell_type": "code",
   "execution_count": 9,
   "id": "b4caeff1-d6dc-4968-b0b2-01e1a6f8a99c",
   "metadata": {
    "id": "b4caeff1-d6dc-4968-b0b2-01e1a6f8a99c"
   },
   "outputs": [],
   "source": [
    "sc = StandardScaler()\n",
    "sc.fit(X_train)\n",
    "X_train = sc.transform(X_train)\n",
    "X_test = sc.transform(X_test)"
   ]
  },
  {
   "cell_type": "markdown",
   "id": "68d32bc2-d1d5-4e69-9595-57977e975f75",
   "metadata": {
    "id": "68d32bc2-d1d5-4e69-9595-57977e975f75"
   },
   "source": [
    "## Training Multiple Models - Pre-requisites"
   ]
  },
  {
   "cell_type": "code",
   "execution_count": 10,
   "id": "3d7fbdb0-21d8-41a4-946e-f73b4f937d06",
   "metadata": {
    "id": "3d7fbdb0-21d8-41a4-946e-f73b4f937d06"
   },
   "outputs": [],
   "source": [
    "from sklearn.metrics import mean_squared_error, mean_absolute_error, r2_score"
   ]
  },
  {
   "cell_type": "code",
   "execution_count": 11,
   "id": "fe27f031-a594-4bad-8cd4-cada4f0375b9",
   "metadata": {
    "id": "fe27f031-a594-4bad-8cd4-cada4f0375b9"
   },
   "outputs": [],
   "source": [
    "# Function to get metrics\n",
    "def get_metrics(y_test, y_pred, model_name):\n",
    "    MSE = mean_squared_error(y_test, y_pred)\n",
    "    RMSE = np.sqrt(MSE)\n",
    "    MAE = mean_absolute_error(y_test, y_pred)\n",
    "    R2 = r2_score(y_test, y_pred)\n",
    "\n",
    "    print(f\"{model_name} : ['MSE': {round(MSE, 3)}, 'RMSE': {round(RMSE, 3)}, 'MAE': {round(MAE, 3)}, 'R2': {round(R2, 3)}]\")"
   ]
  },
  {
   "cell_type": "markdown",
   "id": "8e876534-066c-47a9-9d11-302132d0b4b4",
   "metadata": {
    "id": "8e876534-066c-47a9-9d11-302132d0b4b4"
   },
   "source": [
    "## Training Multiple Models"
   ]
  },
  {
   "cell_type": "code",
   "execution_count": 12,
   "id": "1f4f407d-01ee-471a-9231-0099c56d4da6",
   "metadata": {
    "id": "1f4f407d-01ee-471a-9231-0099c56d4da6"
   },
   "outputs": [],
   "source": [
    "from sklearn.linear_model import LinearRegression, Ridge, Lasso\n",
    "from sklearn.preprocessing import PolynomialFeatures\n",
    "from sklearn.svm import SVR\n",
    "from sklearn.neighbors import KNeighborsRegressor\n",
    "from sklearn.tree import DecisionTreeRegressor\n",
    "from sklearn.ensemble import RandomForestRegressor\n",
    "from xgboost import XGBRegressor"
   ]
  },
  {
   "cell_type": "markdown",
   "id": "a93ed619-e238-4663-a9b3-726ba1772ce2",
   "metadata": {
    "id": "a93ed619-e238-4663-a9b3-726ba1772ce2"
   },
   "source": [
    "### Scores after models are trained"
   ]
  },
  {
   "cell_type": "code",
   "execution_count": 13,
   "id": "0df544d7-f71e-45fd-afd9-1573f08884c8",
   "metadata": {
    "colab": {
     "base_uri": "https://localhost:8080/"
    },
    "id": "0df544d7-f71e-45fd-afd9-1573f08884c8",
    "outputId": "4a703877-e8b7-431c-eec4-f07d567afb15"
   },
   "outputs": [
    {
     "name": "stderr",
     "output_type": "stream",
     "text": [
      "C:\\Users\\DeLL\\AppData\\Local\\Programs\\Python\\Python312\\Lib\\site-packages\\sklearn\\linear_model\\_coordinate_descent.py:697: ConvergenceWarning: Objective did not converge. You might want to increase the number of iterations, check the scale of the features or consider increasing regularisation. Duality gap: 2.792e+10, tolerance: 4.223e+08\n",
      "  model = cd_fast.enet_coordinate_descent(\n"
     ]
    }
   ],
   "source": [
    "# Training Ridge and Lasso Regression\n",
    "rir = Ridge().fit(X_train, y_train)\n",
    "y_pred_rir = rir.predict(X_test)\n",
    "\n",
    "lar = Lasso().fit(X_train, y_train)\n",
    "y_pred_lar = lar.predict(X_test)\n"
   ]
  },
  {
   "cell_type": "code",
   "execution_count": 14,
   "id": "f9609c96-ec44-4568-8662-488658843a4a",
   "metadata": {
    "colab": {
     "base_uri": "https://localhost:8080/"
    },
    "id": "f9609c96-ec44-4568-8662-488658843a4a",
    "outputId": "9c052829-55eb-4868-a609-6867ec51dff7"
   },
   "outputs": [
    {
     "name": "stdout",
     "output_type": "stream",
     "text": [
      "Ridge : ['MSE': 636150514.162, 'RMSE': 25222.024, 'MAE': 16995.417, 'R2': 0.849]\n",
      "Lasso : ['MSE': 777201979.361, 'RMSE': 27878.342, 'MAE': 17942.561, 'R2': 0.816]\n"
     ]
    }
   ],
   "source": [
    "# Get metrics for each model\n",
    "\n",
    "get_metrics(y_test, y_pred_rir, \"Ridge\")\n",
    "get_metrics(y_test, y_pred_lar, \"Lasso\")"
   ]
  },
  {
   "cell_type": "code",
   "execution_count": 15,
   "id": "z8lRxHCp9D9u",
   "metadata": {
    "id": "z8lRxHCp9D9u"
   },
   "outputs": [],
   "source": [
    "# # Polynomial Regression\n",
    "# poly = PolynomialFeatures(2)\n",
    "# X_train_poly = poly.fit_transform(X_train)\n",
    "# X_test_poly = poly.transform(X_test)\n",
    "\n",
    "# poly_r = LinearRegression().fit(X_train_poly, y_train)\n",
    "# y_pred_poly = poly_r.predict(X_test_poly)"
   ]
  },
  {
   "cell_type": "code",
   "execution_count": 16,
   "id": "weicZveE9EAq",
   "metadata": {
    "id": "weicZveE9EAq"
   },
   "outputs": [],
   "source": [
    "# get_metrics(y_test, y_pred_poly, \"PolynomialFeatures\")"
   ]
  },
  {
   "cell_type": "code",
   "execution_count": 17,
   "id": "WSvDNDTg9EEH",
   "metadata": {
    "id": "WSvDNDTg9EEH"
   },
   "outputs": [],
   "source": [
    "# Support Vector Regression\n",
    "svr = SVR().fit(X_train, y_train)\n",
    "y_pred_svr = svr.predict(X_test)"
   ]
  },
  {
   "cell_type": "code",
   "execution_count": 18,
   "id": "jQe-Z8Oc9EHK",
   "metadata": {
    "colab": {
     "base_uri": "https://localhost:8080/"
    },
    "id": "jQe-Z8Oc9EHK",
    "outputId": "0386f18c-3d74-40ad-a335-35a2985299b9"
   },
   "outputs": [
    {
     "name": "stdout",
     "output_type": "stream",
     "text": [
      "SVR : ['MSE': 4322892957.377, 'RMSE': 65748.711, 'MAE': 46662.52, 'R2': -0.026]\n"
     ]
    }
   ],
   "source": [
    "get_metrics(y_test, y_pred_svr, \"SVR\")"
   ]
  },
  {
   "cell_type": "code",
   "execution_count": 19,
   "id": "3qfFLAuY9EJy",
   "metadata": {
    "id": "3qfFLAuY9EJy"
   },
   "outputs": [],
   "source": [
    "# KNeighbors Regressor\n",
    "knnr = KNeighborsRegressor().fit(X_train, y_train)\n",
    "y_pred_knnr = knnr.predict(X_test)"
   ]
  },
  {
   "cell_type": "code",
   "execution_count": 20,
   "id": "ebuXXrav9EMo",
   "metadata": {
    "colab": {
     "base_uri": "https://localhost:8080/"
    },
    "id": "ebuXXrav9EMo",
    "outputId": "c87ad972-37ed-4d76-ecdd-815ea121676f"
   },
   "outputs": [
    {
     "name": "stdout",
     "output_type": "stream",
     "text": [
      "KNeighborsRegressor : ['MSE': 1285968650.213, 'RMSE': 35860.405, 'MAE': 24146.9, 'R2': 0.695]\n"
     ]
    }
   ],
   "source": [
    "get_metrics(y_test, y_pred_knnr, \"KNeighborsRegressor\")"
   ]
  },
  {
   "cell_type": "code",
   "execution_count": 21,
   "id": "Hpw6NsIU9EPW",
   "metadata": {
    "id": "Hpw6NsIU9EPW"
   },
   "outputs": [],
   "source": [
    "# Decision Tree Regressor\n",
    "dtr = DecisionTreeRegressor().fit(X_train, y_train)\n",
    "y_pred_dtr = dtr.predict(X_test)"
   ]
  },
  {
   "cell_type": "code",
   "execution_count": 22,
   "id": "KnoceZro9ESS",
   "metadata": {
    "colab": {
     "base_uri": "https://localhost:8080/"
    },
    "id": "KnoceZro9ESS",
    "outputId": "45f0a23d-614a-424e-8543-e245a7b417df"
   },
   "outputs": [
    {
     "name": "stdout",
     "output_type": "stream",
     "text": [
      "DecisionTreeRegressor : ['MSE': 1084170053.176, 'RMSE': 32926.738, 'MAE': 19701.705, 'R2': 0.743]\n"
     ]
    }
   ],
   "source": [
    "get_metrics(y_test, y_pred_dtr, \"DecisionTreeRegressor\")"
   ]
  },
  {
   "cell_type": "code",
   "execution_count": 23,
   "id": "6sSD7ual9EVR",
   "metadata": {
    "id": "6sSD7ual9EVR"
   },
   "outputs": [],
   "source": [
    "# Random Forest Regressor\n",
    "rfr = RandomForestRegressor().fit(X_train, y_train)\n",
    "y_pred_rfr = rfr.predict(X_test)"
   ]
  },
  {
   "cell_type": "code",
   "execution_count": 24,
   "id": "2PJc7nHz9EX4",
   "metadata": {
    "colab": {
     "base_uri": "https://localhost:8080/"
    },
    "id": "2PJc7nHz9EX4",
    "outputId": "fbbc1180-641b-4e45-d928-33bdd10bdaed"
   },
   "outputs": [
    {
     "name": "stdout",
     "output_type": "stream",
     "text": [
      "RandomForestRegressor : ['MSE': 803131512.588, 'RMSE': 28339.575, 'MAE': 17906.9, 'R2': 0.809]\n"
     ]
    }
   ],
   "source": [
    "get_metrics(y_test, y_pred_rfr, \"RandomForestRegressor\")"
   ]
  },
  {
   "cell_type": "code",
   "execution_count": 25,
   "id": "jmfkhiE79Xh9",
   "metadata": {
    "id": "jmfkhiE79Xh9"
   },
   "outputs": [],
   "source": [
    "# XGBoost Regressor\n",
    "xgbr = XGBRegressor().fit(X_train, y_train)\n",
    "y_pred_xgbr = xgbr.predict(X_test)"
   ]
  },
  {
   "cell_type": "code",
   "execution_count": 26,
   "id": "JTc4B6FH9Xll",
   "metadata": {
    "colab": {
     "base_uri": "https://localhost:8080/"
    },
    "id": "JTc4B6FH9Xll",
    "outputId": "ac519cc3-ef9a-4896-ded4-15e577354679"
   },
   "outputs": [
    {
     "name": "stdout",
     "output_type": "stream",
     "text": [
      "XGBRegressor : ['MSE': 576392889.894, 'RMSE': 24008.184, 'MAE': 15983.044, 'R2': 0.863]\n"
     ]
    }
   ],
   "source": [
    "get_metrics(y_test, y_pred_xgbr, \"XGBRegressor\")"
   ]
  },
  {
   "cell_type": "code",
   "execution_count": 27,
   "id": "4OrKBPrMIdhC",
   "metadata": {
    "colab": {
     "base_uri": "https://localhost:8080/"
    },
    "id": "4OrKBPrMIdhC",
    "outputId": "d446fdee-abc3-41c6-cf1f-3a37a04a7d26"
   },
   "outputs": [
    {
     "name": "stdout",
     "output_type": "stream",
     "text": [
      "GradientBoostingRegressor : ['MSE': 694505622.055, 'RMSE': 26353.475, 'MAE': 19097.127, 'R2': 0.835]\n"
     ]
    }
   ],
   "source": [
    "# Gradient Boosting Regressor\n",
    "from sklearn.ensemble import GradientBoostingRegressor\n",
    "gbr = GradientBoostingRegressor().fit(X_train, y_train)\n",
    "y_pred_gbr = gbr.predict(X_test)\n",
    "get_metrics(y_test, y_pred_gbr, \"GradientBoostingRegressor\")"
   ]
  },
  {
   "cell_type": "code",
   "execution_count": 28,
   "id": "_U-nlcEWIdkm",
   "metadata": {
    "colab": {
     "base_uri": "https://localhost:8080/"
    },
    "id": "_U-nlcEWIdkm",
    "outputId": "a2c1cc15-9605-44d7-a704-4b5acadb1d8f"
   },
   "outputs": [
    {
     "name": "stdout",
     "output_type": "stream",
     "text": [
      "AdaBoostRegressor : ['MSE': 1653581087.872, 'RMSE': 40664.248, 'MAE': 34293.661, 'R2': 0.608]\n"
     ]
    }
   ],
   "source": [
    "# AdaBoost Regressor\n",
    "from sklearn.ensemble import AdaBoostRegressor\n",
    "abr = AdaBoostRegressor().fit(X_train, y_train)\n",
    "y_pred_abr = abr.predict(X_test)\n",
    "get_metrics(y_test, y_pred_abr, \"AdaBoostRegressor\")"
   ]
  },
  {
   "cell_type": "code",
   "execution_count": 29,
   "id": "hf2iQKTpIdoF",
   "metadata": {
    "colab": {
     "base_uri": "https://localhost:8080/"
    },
    "id": "hf2iQKTpIdoF",
    "outputId": "6fd76f95-a3b5-497a-d82d-61c770634245"
   },
   "outputs": [
    {
     "name": "stdout",
     "output_type": "stream",
     "text": [
      "ExtraTreesRegressor : ['MSE': 681231390.59, 'RMSE': 26100.41, 'MAE': 16990.256, 'R2': 0.838]\n"
     ]
    }
   ],
   "source": [
    "# Extra Trees Regressor\n",
    "from sklearn.ensemble import ExtraTreesRegressor\n",
    "etr = ExtraTreesRegressor().fit(X_train, y_train)\n",
    "y_pred_etr = etr.predict(X_test)\n",
    "get_metrics(y_test, y_pred_etr, \"ExtraTreesRegressor\")"
   ]
  },
  {
   "cell_type": "code",
   "execution_count": 30,
   "id": "AnB7BtxVIdrQ",
   "metadata": {
    "colab": {
     "base_uri": "https://localhost:8080/"
    },
    "id": "AnB7BtxVIdrQ",
    "outputId": "6b601fa2-c784-4390-b1ca-b3030fa3ab6c"
   },
   "outputs": [
    {
     "name": "stdout",
     "output_type": "stream",
     "text": [
      "[LightGBM] [Info] Auto-choosing row-wise multi-threading, the overhead of testing was 0.001537 seconds.\n",
      "You can set `force_row_wise=true` to remove the overhead.\n",
      "And if memory is not enough, you can set `force_col_wise=true`.\n",
      "[LightGBM] [Info] Total Bins 203\n",
      "[LightGBM] [Info] Number of data points in the train set: 1041, number of used features: 59\n",
      "[LightGBM] [Info] Start training from score 103417.184438\n",
      "LGBMRegressor : ['MSE': 826737126.005, 'RMSE': 28753.037, 'MAE': 17603.647, 'R2': 0.804]\n"
     ]
    }
   ],
   "source": [
    "# LightGBM Regressor\n",
    "from lightgbm import LGBMRegressor\n",
    "lgbmr = LGBMRegressor().fit(X_train, y_train)\n",
    "y_pred_lgbmr = lgbmr.predict(X_test)\n",
    "get_metrics(y_test, y_pred_lgbmr, \"LGBMRegressor\")"
   ]
  },
  {
   "cell_type": "code",
   "execution_count": 31,
   "id": "F1d8BnbDIduO",
   "metadata": {
    "colab": {
     "base_uri": "https://localhost:8080/"
    },
    "id": "F1d8BnbDIduO",
    "outputId": "1cab8192-7029-4be6-ba14-4eed3703c6fe"
   },
   "outputs": [
    {
     "name": "stdout",
     "output_type": "stream",
     "text": [
      "CatBoostRegressor : ['MSE': 544935955.665, 'RMSE': 23343.863, 'MAE': 15794.404, 'R2': 0.871]\n"
     ]
    }
   ],
   "source": [
    "# CatBoost Regressor\n",
    "from catboost import CatBoostRegressor\n",
    "cbr = CatBoostRegressor(verbose=0).fit(X_train, y_train)\n",
    "y_pred_cbr = cbr.predict(X_test)\n",
    "get_metrics(y_test, y_pred_cbr, \"CatBoostRegressor\")"
   ]
  },
  {
   "cell_type": "code",
   "execution_count": 32,
   "id": "wZxwxa-3IdxJ",
   "metadata": {
    "colab": {
     "base_uri": "https://localhost:8080/"
    },
    "id": "wZxwxa-3IdxJ",
    "outputId": "4cae77d1-e4e5-4a31-9de5-77440d8b4ce6"
   },
   "outputs": [
    {
     "name": "stdout",
     "output_type": "stream",
     "text": [
      "ElasticNet : ['MSE': 548307423.284, 'RMSE': 23415.965, 'MAE': 15744.735, 'R2': 0.87]\n"
     ]
    }
   ],
   "source": [
    "# ElasticNet Regression\n",
    "from sklearn.linear_model import ElasticNet\n",
    "en = ElasticNet().fit(X_train, y_train)\n",
    "y_pred_en = en.predict(X_test)\n",
    "get_metrics(y_test, y_pred_en, \"ElasticNet\")"
   ]
  },
  {
   "cell_type": "code",
   "execution_count": 33,
   "id": "OtBkakcRId0I",
   "metadata": {
    "colab": {
     "base_uri": "https://localhost:8080/"
    },
    "id": "OtBkakcRId0I",
    "outputId": "89e30318-622f-4bdc-c97b-63355d6825b4"
   },
   "outputs": [
    {
     "name": "stdout",
     "output_type": "stream",
     "text": [
      "HuberRegressor : ['MSE': 674615485.174, 'RMSE': 25973.361, 'MAE': 16651.162, 'R2': 0.84]\n"
     ]
    },
    {
     "name": "stderr",
     "output_type": "stream",
     "text": [
      "C:\\Users\\DeLL\\AppData\\Local\\Programs\\Python\\Python312\\Lib\\site-packages\\sklearn\\linear_model\\_huber.py:342: ConvergenceWarning: lbfgs failed to converge (status=1):\n",
      "STOP: TOTAL NO. of ITERATIONS REACHED LIMIT.\n",
      "\n",
      "Increase the number of iterations (max_iter) or scale the data as shown in:\n",
      "    https://scikit-learn.org/stable/modules/preprocessing.html\n",
      "  self.n_iter_ = _check_optimize_result(\"lbfgs\", opt_res, self.max_iter)\n"
     ]
    }
   ],
   "source": [
    "# Huber Regressor\n",
    "from sklearn.linear_model import HuberRegressor\n",
    "hr = HuberRegressor().fit(X_train, y_train)\n",
    "y_pred_hr = hr.predict(X_test)\n",
    "get_metrics(y_test, y_pred_hr, \"HuberRegressor\")"
   ]
  },
  {
   "cell_type": "code",
   "execution_count": null,
   "id": "2uuHfer9IeAl",
   "metadata": {
    "id": "2uuHfer9IeAl"
   },
   "outputs": [],
   "source": []
  },
  {
   "cell_type": "code",
   "execution_count": null,
   "id": "U1dRgHWVIeDo",
   "metadata": {
    "id": "U1dRgHWVIeDo"
   },
   "outputs": [],
   "source": []
  },
  {
   "cell_type": "markdown",
   "id": "5cd77c5b-482a-4963-a2f6-5050f9fe43b3",
   "metadata": {
    "id": "5cd77c5b-482a-4963-a2f6-5050f9fe43b3"
   },
   "source": [
    "# Best Model for this case: CatBoostRegressor with 'R2': 0.871"
   ]
  },
  {
   "cell_type": "code",
   "execution_count": 37,
   "id": "3500204b-7416-45ca-a19b-838d6bca185d",
   "metadata": {
    "id": "3500204b-7416-45ca-a19b-838d6bca185d"
   },
   "outputs": [
    {
     "data": {
      "image/png": "[encoded data removed]",
      "text/plain": [
       "<Figure size 640x480 with 1 Axes>"
      ]
     },
     "metadata": {},
     "output_type": "display_data"
    }
   ],
   "source": [
    "plt.scatter(y_test, y_pred_cbr)\n",
    "plt.title(\"Cat Boost: Ground Truth vs Prediction\")\n",
    "plt.xlabel(\"Ground Truth\")\n",
    "plt.ylabel(\"Prediction\")\n",
    "plt.show()"
   ]
  },
  {
   "cell_type": "code",
   "execution_count": 35,
   "id": "GiNKWWQTHfbp",
   "metadata": {
    "id": "GiNKWWQTHfbp"
   },
   "outputs": [
    {
     "data": {
      "image/png": "[encoded data removed]",
      "text/plain": [
       "<Figure size 640x480 with 1 Axes>"
      ]
     },
     "metadata": {},
     "output_type": "display_data"
    }
   ],
   "source": [
    "plt.scatter(y_test, y_pred_rfr)\n",
    "plt.title(\"Random Forest Regression: Ground Truth vs Prediction\")\n",
    "plt.xlabel(\"Ground Truth\")\n",
    "plt.ylabel(\"Prediction\")\n",
    "plt.show()"
   ]
  },
  {
   "cell_type": "code",
   "execution_count": 36,
   "id": "aFfynDzDHib4",
   "metadata": {
    "id": "aFfynDzDHib4"
   },
   "outputs": [
    {
     "data": {
      "image/png": "[encoded data removed]",
      "text/plain": [
       "<Figure size 640x480 with 1 Axes>"
      ]
     },
     "metadata": {},
     "output_type": "display_data"
    }
   ],
   "source": [
    "plt.scatter(y_test, y_pred_xgbr)\n",
    "plt.title(\"XGB Regression: Ground Truth vs Prediction\")\n",
    "plt.xlabel(\"Ground Truth\")\n",
    "plt.ylabel(\"Prediction\")\n",
    "plt.show()"
   ]
  },
  {
   "cell_type": "code",
   "execution_count": null,
   "id": "kZOQcHhRHqEp",
   "metadata": {
    "id": "kZOQcHhRHqEp"
   },
   "outputs": [],
   "source": []
  }
 ],
 "metadata": {
  "colab": {
   "provenance": []
  },
  "kernelspec": {
   "display_name": "Python 3 (ipykernel)",
   "language": "python",
   "name": "python3"
  },
  "language_info": {
   "codemirror_mode": {
    "name": "ipython",
    "version": 3
   },
   "file_extension": ".py",
   "mimetype": "text/x-python",
   "name": "python",
   "nbconvert_exporter": "python",
   "pygments_lexer": "ipython3",
   "version": "3.12.2"
  }
 },
 "nbformat": 4,
 "nbformat_minor": 5
}
