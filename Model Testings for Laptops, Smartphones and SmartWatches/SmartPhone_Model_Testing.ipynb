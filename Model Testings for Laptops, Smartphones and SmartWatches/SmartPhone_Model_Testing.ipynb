{
  "cells": [
    {
      "cell_type": "code",
      "execution_count": 145,
      "id": "d83e8eb2-5d7c-4e4f-b52d-efaa8ccfea0f",
      "metadata": {
        "id": "d83e8eb2-5d7c-4e4f-b52d-efaa8ccfea0f"
      },
      "outputs": [],
      "source": [
        "import numpy as np\n",
        "import pandas as pd\n",
        "import matplotlib.pyplot as plt\n",
        "import seaborn as sb\n",
        "from sklearn.preprocessing import LabelEncoder\n",
        "from sklearn.preprocessing import StandardScaler\n",
        "from sklearn.model_selection import train_test_split"
      ]
    },
    {
      "cell_type": "code",
      "execution_count": 146,
      "id": "d316082d-9389-4bcc-8b5d-2e37c0f1e82e",
      "metadata": {
        "id": "d316082d-9389-4bcc-8b5d-2e37c0f1e82e"
      },
      "outputs": [],
      "source": [
        "df_cleaned = pd.read_csv(r\"/content/cleaned_smartphone_data.csv\")"
      ]
    },
    {
      "cell_type": "code",
      "execution_count": 147,
      "id": "3a427340-7590-4748-8098-ea5f740acee9",
      "metadata": {
        "colab": {
          "base_uri": "https://localhost:8080/",
          "height": 258
        },
        "id": "3a427340-7590-4748-8098-ea5f740acee9",
        "outputId": "d023841e-c38a-43de-d8b6-d9a18c8d5e9d"
      },
      "outputs": [
        {
          "output_type": "execute_result",
          "data": {
            "text/plain": [
              "     Brand      Model  Front Camera (MP)  Have Pop-Up Front Camera  \\\n",
              "0  SAMSUNG  S24 Ultra               40.0                         0   \n",
              "1  SAMSUNG   S24 Plus               10.0                         0   \n",
              "2  SAMSUNG       Zero               32.0                         0   \n",
              "3  SAMSUNG        S24               10.0                         0   \n",
              "4  SAMSUNG       A05s                5.0                         0   \n",
              "\n",
              "   Rear Camera (MP)          Processor  Battery Capacity (mAh)  \\\n",
              "0             108.0             Exynos                    5000   \n",
              "1              50.0             Exynos                    4500   \n",
              "2              12.0  Snapdragon 888 5G                    4500   \n",
              "3              50.0             Exynos                    3700   \n",
              "4              50.0             Exynos                    5000   \n",
              "\n",
              "   Display Size (inches)  RAM (GB)  ROM (GB)  Price (Rs.)  \n",
              "0                   6.80       8.0       128       101515  \n",
              "1                   6.60       8.0       128        57575  \n",
              "2                   6.41       8.0       256        34242  \n",
              "3                   6.10       8.0       128        75757  \n",
              "4                   6.50       4.0        64         7575  "
            ],
            "text/html": [
              "\n",
              "  <div id=\"df-78a65e00-198a-46e2-ada6-0bb6e4394561\" class=\"colab-df-container\">\n",
              "    <div>\n",
              "<style scoped>\n",
              "    .dataframe tbody tr th:only-of-type {\n",
              "        vertical-align: middle;\n",
              "    }\n",
              "\n",
              "    .dataframe tbody tr th {\n",
              "        vertical-align: top;\n",
              "    }\n",
              "\n",
              "    .dataframe thead th {\n",
              "        text-align: right;\n",
              "    }\n",
              "</style>\n",
              "<table border=\"1\" class=\"dataframe\">\n",
              "  <thead>\n",
              "    <tr style=\"text-align: right;\">\n",
              "      <th></th>\n",
              "      <th>Brand</th>\n",
              "      <th>Model</th>\n",
              "      <th>Front Camera (MP)</th>\n",
              "      <th>Have Pop-Up Front Camera</th>\n",
              "      <th>Rear Camera (MP)</th>\n",
              "      <th>Processor</th>\n",
              "      <th>Battery Capacity (mAh)</th>\n",
              "      <th>Display Size (inches)</th>\n",
              "      <th>RAM (GB)</th>\n",
              "      <th>ROM (GB)</th>\n",
              "      <th>Price (Rs.)</th>\n",
              "    </tr>\n",
              "  </thead>\n",
              "  <tbody>\n",
              "    <tr>\n",
              "      <th>0</th>\n",
              "      <td>SAMSUNG</td>\n",
              "      <td>S24 Ultra</td>\n",
              "      <td>40.0</td>\n",
              "      <td>0</td>\n",
              "      <td>108.0</td>\n",
              "      <td>Exynos</td>\n",
              "      <td>5000</td>\n",
              "      <td>6.80</td>\n",
              "      <td>8.0</td>\n",
              "      <td>128</td>\n",
              "      <td>101515</td>\n",
              "    </tr>\n",
              "    <tr>\n",
              "      <th>1</th>\n",
              "      <td>SAMSUNG</td>\n",
              "      <td>S24 Plus</td>\n",
              "      <td>10.0</td>\n",
              "      <td>0</td>\n",
              "      <td>50.0</td>\n",
              "      <td>Exynos</td>\n",
              "      <td>4500</td>\n",
              "      <td>6.60</td>\n",
              "      <td>8.0</td>\n",
              "      <td>128</td>\n",
              "      <td>57575</td>\n",
              "    </tr>\n",
              "    <tr>\n",
              "      <th>2</th>\n",
              "      <td>SAMSUNG</td>\n",
              "      <td>Zero</td>\n",
              "      <td>32.0</td>\n",
              "      <td>0</td>\n",
              "      <td>12.0</td>\n",
              "      <td>Snapdragon 888 5G</td>\n",
              "      <td>4500</td>\n",
              "      <td>6.41</td>\n",
              "      <td>8.0</td>\n",
              "      <td>256</td>\n",
              "      <td>34242</td>\n",
              "    </tr>\n",
              "    <tr>\n",
              "      <th>3</th>\n",
              "      <td>SAMSUNG</td>\n",
              "      <td>S24</td>\n",
              "      <td>10.0</td>\n",
              "      <td>0</td>\n",
              "      <td>50.0</td>\n",
              "      <td>Exynos</td>\n",
              "      <td>3700</td>\n",
              "      <td>6.10</td>\n",
              "      <td>8.0</td>\n",
              "      <td>128</td>\n",
              "      <td>75757</td>\n",
              "    </tr>\n",
              "    <tr>\n",
              "      <th>4</th>\n",
              "      <td>SAMSUNG</td>\n",
              "      <td>A05s</td>\n",
              "      <td>5.0</td>\n",
              "      <td>0</td>\n",
              "      <td>50.0</td>\n",
              "      <td>Exynos</td>\n",
              "      <td>5000</td>\n",
              "      <td>6.50</td>\n",
              "      <td>4.0</td>\n",
              "      <td>64</td>\n",
              "      <td>7575</td>\n",
              "    </tr>\n",
              "  </tbody>\n",
              "</table>\n",
              "</div>\n",
              "    <div class=\"colab-df-buttons\">\n",
              "\n",
              "  <div class=\"colab-df-container\">\n",
              "    <button class=\"colab-df-convert\" onclick=\"convertToInteractive('df-78a65e00-198a-46e2-ada6-0bb6e4394561')\"\n",
              "            title=\"Convert this dataframe to an interactive table.\"\n",
              "            style=\"display:none;\">\n",
              "\n",
              "  <svg xmlns=\"http://www.w3.org/2000/svg\" height=\"24px\" viewBox=\"0 -960 960 960\">\n",
              "    <path d=\"M120-120v-720h720v720H120Zm60-500h600v-160H180v160Zm220 220h160v-160H400v160Zm0 220h160v-160H400v160ZM180-400h160v-160H180v160Zm440 0h160v-160H620v160ZM180-180h160v-160H180v160Zm440 0h160v-160H620v160Z\"/>\n",
              "  </svg>\n",
              "    </button>\n",
              "\n",
              "  <style>\n",
              "    .colab-df-container {\n",
              "      display:flex;\n",
              "      gap: 12px;\n",
              "    }\n",
              "\n",
              "    .colab-df-convert {\n",
              "      background-color: #E8F0FE;\n",
              "      border: none;\n",
              "      border-radius: 50%;\n",
              "      cursor: pointer;\n",
              "      display: none;\n",
              "      fill: #1967D2;\n",
              "      height: 32px;\n",
              "      padding: 0 0 0 0;\n",
              "      width: 32px;\n",
              "    }\n",
              "\n",
              "    .colab-df-convert:hover {\n",
              "      background-color: #E2EBFA;\n",
              "      box-shadow: 0px 1px 2px rgba(60, 64, 67, 0.3), 0px 1px 3px 1px rgba(60, 64, 67, 0.15);\n",
              "      fill: #174EA6;\n",
              "    }\n",
              "\n",
              "    .colab-df-buttons div {\n",
              "      margin-bottom: 4px;\n",
              "    }\n",
              "\n",
              "    [theme=dark] .colab-df-convert {\n",
              "      background-color: #3B4455;\n",
              "      fill: #D2E3FC;\n",
              "    }\n",
              "\n",
              "    [theme=dark] .colab-df-convert:hover {\n",
              "      background-color: #434B5C;\n",
              "      box-shadow: 0px 1px 3px 1px rgba(0, 0, 0, 0.15);\n",
              "      filter: drop-shadow(0px 1px 2px rgba(0, 0, 0, 0.3));\n",
              "      fill: #FFFFFF;\n",
              "    }\n",
              "  </style>\n",
              "\n",
              "    <script>\n",
              "      const buttonEl =\n",
              "        document.querySelector('#df-78a65e00-198a-46e2-ada6-0bb6e4394561 button.colab-df-convert');\n",
              "      buttonEl.style.display =\n",
              "        google.colab.kernel.accessAllowed ? 'block' : 'none';\n",
              "\n",
              "      async function convertToInteractive(key) {\n",
              "        const element = document.querySelector('#df-78a65e00-198a-46e2-ada6-0bb6e4394561');\n",
              "        const dataTable =\n",
              "          await google.colab.kernel.invokeFunction('convertToInteractive',\n",
              "                                                    [key], {});\n",
              "        if (!dataTable) return;\n",
              "\n",
              "        const docLinkHtml = 'Like what you see? Visit the ' +\n",
              "          '<a target=\"_blank\" href=https://colab.research.google.com/notebooks/data_table.ipynb>data table notebook</a>'\n",
              "          + ' to learn more about interactive tables.';\n",
              "        element.innerHTML = '';\n",
              "        dataTable['output_type'] = 'display_data';\n",
              "        await google.colab.output.renderOutput(dataTable, element);\n",
              "        const docLink = document.createElement('div');\n",
              "        docLink.innerHTML = docLinkHtml;\n",
              "        element.appendChild(docLink);\n",
              "      }\n",
              "    </script>\n",
              "  </div>\n",
              "\n",
              "\n",
              "<div id=\"df-0f52af47-0d71-47f3-85ad-925aad43b051\">\n",
              "  <button class=\"colab-df-quickchart\" onclick=\"quickchart('df-0f52af47-0d71-47f3-85ad-925aad43b051')\"\n",
              "            title=\"Suggest charts\"\n",
              "            style=\"display:none;\">\n",
              "\n",
              "<svg xmlns=\"http://www.w3.org/2000/svg\" height=\"24px\"viewBox=\"0 0 24 24\"\n",
              "     width=\"24px\">\n",
              "    <g>\n",
              "        <path d=\"M19 3H5c-1.1 0-2 .9-2 2v14c0 1.1.9 2 2 2h14c1.1 0 2-.9 2-2V5c0-1.1-.9-2-2-2zM9 17H7v-7h2v7zm4 0h-2V7h2v10zm4 0h-2v-4h2v4z\"/>\n",
              "    </g>\n",
              "</svg>\n",
              "  </button>\n",
              "\n",
              "<style>\n",
              "  .colab-df-quickchart {\n",
              "      --bg-color: #E8F0FE;\n",
              "      --fill-color: #1967D2;\n",
              "      --hover-bg-color: #E2EBFA;\n",
              "      --hover-fill-color: #174EA6;\n",
              "      --disabled-fill-color: #AAA;\n",
              "      --disabled-bg-color: #DDD;\n",
              "  }\n",
              "\n",
              "  [theme=dark] .colab-df-quickchart {\n",
              "      --bg-color: #3B4455;\n",
              "      --fill-color: #D2E3FC;\n",
              "      --hover-bg-color: #434B5C;\n",
              "      --hover-fill-color: #FFFFFF;\n",
              "      --disabled-bg-color: #3B4455;\n",
              "      --disabled-fill-color: #666;\n",
              "  }\n",
              "\n",
              "  .colab-df-quickchart {\n",
              "    background-color: var(--bg-color);\n",
              "    border: none;\n",
              "    border-radius: 50%;\n",
              "    cursor: pointer;\n",
              "    display: none;\n",
              "    fill: var(--fill-color);\n",
              "    height: 32px;\n",
              "    padding: 0;\n",
              "    width: 32px;\n",
              "  }\n",
              "\n",
              "  .colab-df-quickchart:hover {\n",
              "    background-color: var(--hover-bg-color);\n",
              "    box-shadow: 0 1px 2px rgba(60, 64, 67, 0.3), 0 1px 3px 1px rgba(60, 64, 67, 0.15);\n",
              "    fill: var(--button-hover-fill-color);\n",
              "  }\n",
              "\n",
              "  .colab-df-quickchart-complete:disabled,\n",
              "  .colab-df-quickchart-complete:disabled:hover {\n",
              "    background-color: var(--disabled-bg-color);\n",
              "    fill: var(--disabled-fill-color);\n",
              "    box-shadow: none;\n",
              "  }\n",
              "\n",
              "  .colab-df-spinner {\n",
              "    border: 2px solid var(--fill-color);\n",
              "    border-color: transparent;\n",
              "    border-bottom-color: var(--fill-color);\n",
              "    animation:\n",
              "      spin 1s steps(1) infinite;\n",
              "  }\n",
              "\n",
              "  @keyframes spin {\n",
              "    0% {\n",
              "      border-color: transparent;\n",
              "      border-bottom-color: var(--fill-color);\n",
              "      border-left-color: var(--fill-color);\n",
              "    }\n",
              "    20% {\n",
              "      border-color: transparent;\n",
              "      border-left-color: var(--fill-color);\n",
              "      border-top-color: var(--fill-color);\n",
              "    }\n",
              "    30% {\n",
              "      border-color: transparent;\n",
              "      border-left-color: var(--fill-color);\n",
              "      border-top-color: var(--fill-color);\n",
              "      border-right-color: var(--fill-color);\n",
              "    }\n",
              "    40% {\n",
              "      border-color: transparent;\n",
              "      border-right-color: var(--fill-color);\n",
              "      border-top-color: var(--fill-color);\n",
              "    }\n",
              "    60% {\n",
              "      border-color: transparent;\n",
              "      border-right-color: var(--fill-color);\n",
              "    }\n",
              "    80% {\n",
              "      border-color: transparent;\n",
              "      border-right-color: var(--fill-color);\n",
              "      border-bottom-color: var(--fill-color);\n",
              "    }\n",
              "    90% {\n",
              "      border-color: transparent;\n",
              "      border-bottom-color: var(--fill-color);\n",
              "    }\n",
              "  }\n",
              "</style>\n",
              "\n",
              "  <script>\n",
              "    async function quickchart(key) {\n",
              "      const quickchartButtonEl =\n",
              "        document.querySelector('#' + key + ' button');\n",
              "      quickchartButtonEl.disabled = true;  // To prevent multiple clicks.\n",
              "      quickchartButtonEl.classList.add('colab-df-spinner');\n",
              "      try {\n",
              "        const charts = await google.colab.kernel.invokeFunction(\n",
              "            'suggestCharts', [key], {});\n",
              "      } catch (error) {\n",
              "        console.error('Error during call to suggestCharts:', error);\n",
              "      }\n",
              "      quickchartButtonEl.classList.remove('colab-df-spinner');\n",
              "      quickchartButtonEl.classList.add('colab-df-quickchart-complete');\n",
              "    }\n",
              "    (() => {\n",
              "      let quickchartButtonEl =\n",
              "        document.querySelector('#df-0f52af47-0d71-47f3-85ad-925aad43b051 button');\n",
              "      quickchartButtonEl.style.display =\n",
              "        google.colab.kernel.accessAllowed ? 'block' : 'none';\n",
              "    })();\n",
              "  </script>\n",
              "</div>\n",
              "\n",
              "    </div>\n",
              "  </div>\n"
            ],
            "application/vnd.google.colaboratory.intrinsic+json": {
              "type": "dataframe",
              "variable_name": "df_cleaned",
              "summary": "{\n  \"name\": \"df_cleaned\",\n  \"rows\": 1256,\n  \"fields\": [\n    {\n      \"column\": \"Brand\",\n      \"properties\": {\n        \"dtype\": \"category\",\n        \"num_unique_values\": 5,\n        \"samples\": [\n          \"XIAOMI\",\n          \"OPPO\",\n          \"APPLE\"\n        ],\n        \"semantic_type\": \"\",\n        \"description\": \"\"\n      }\n    },\n    {\n      \"column\": \"Model\",\n      \"properties\": {\n        \"dtype\": \"string\",\n        \"num_unique_values\": 1196,\n        \"samples\": [\n          \"Redmi Note 10S  \",\n          \"A10\",\n          \"Find X6 Pro\"\n        ],\n        \"semantic_type\": \"\",\n        \"description\": \"\"\n      }\n    },\n    {\n      \"column\": \"Front Camera (MP)\",\n      \"properties\": {\n        \"dtype\": \"number\",\n        \"std\": 11.07522729125091,\n        \"min\": 0.3,\n        \"max\": 108.0,\n        \"num_unique_values\": 23,\n        \"samples\": [\n          3.7,\n          16.0,\n          40.0\n        ],\n        \"semantic_type\": \"\",\n        \"description\": \"\"\n      }\n    },\n    {\n      \"column\": \"Have Pop-Up Front Camera\",\n      \"properties\": {\n        \"dtype\": \"number\",\n        \"std\": 0,\n        \"min\": 0,\n        \"max\": 1,\n        \"num_unique_values\": 2,\n        \"samples\": [\n          1,\n          0\n        ],\n        \"semantic_type\": \"\",\n        \"description\": \"\"\n      }\n    },\n    {\n      \"column\": \"Rear Camera (MP)\",\n      \"properties\": {\n        \"dtype\": \"number\",\n        \"std\": 29.871702460365075,\n        \"min\": 2.0,\n        \"max\": 200.0,\n        \"num_unique_values\": 16,\n        \"samples\": [\n          108.0,\n          50.0\n        ],\n        \"semantic_type\": \"\",\n        \"description\": \"\"\n      }\n    },\n    {\n      \"column\": \"Processor\",\n      \"properties\": {\n        \"dtype\": \"category\",\n        \"num_unique_values\": 182,\n        \"samples\": [\n          \"Dimensity 700 5G\",\n          \"Exynos 980\"\n        ],\n        \"semantic_type\": \"\",\n        \"description\": \"\"\n      }\n    },\n    {\n      \"column\": \"Battery Capacity (mAh)\",\n      \"properties\": {\n        \"dtype\": \"number\",\n        \"std\": 1188,\n        \"min\": 1420,\n        \"max\": 10758,\n        \"num_unique_values\": 101,\n        \"samples\": [\n          1560,\n          10758\n        ],\n        \"semantic_type\": \"\",\n        \"description\": \"\"\n      }\n    },\n    {\n      \"column\": \"Display Size (inches)\",\n      \"properties\": {\n        \"dtype\": \"number\",\n        \"std\": 1.0293197377350407,\n        \"min\": 1.78,\n        \"max\": 12.9,\n        \"num_unique_values\": 69,\n        \"samples\": [\n          6.0,\n          6.8\n        ],\n        \"semantic_type\": \"\",\n        \"description\": \"\"\n      }\n    },\n    {\n      \"column\": \"RAM (GB)\",\n      \"properties\": {\n        \"dtype\": \"number\",\n        \"std\": 3.0786947566231193,\n        \"min\": 0.0,\n        \"max\": 16.0,\n        \"num_unique_values\": 16,\n        \"samples\": [\n          8.0,\n          4.0\n        ],\n        \"semantic_type\": \"\",\n        \"description\": \"\"\n      }\n    },\n    {\n      \"column\": \"ROM (GB)\",\n      \"properties\": {\n        \"dtype\": \"number\",\n        \"std\": 142,\n        \"min\": 4,\n        \"max\": 2048,\n        \"num_unique_values\": 11,\n        \"samples\": [\n          16,\n          128\n        ],\n        \"semantic_type\": \"\",\n        \"description\": \"\"\n      }\n    },\n    {\n      \"column\": \"Price (Rs.)\",\n      \"properties\": {\n        \"dtype\": \"number\",\n        \"std\": 21654,\n        \"min\": 121,\n        \"max\": 160606,\n        \"num_unique_values\": 260,\n        \"samples\": [\n          90606,\n          7727\n        ],\n        \"semantic_type\": \"\",\n        \"description\": \"\"\n      }\n    }\n  ]\n}"
            }
          },
          "metadata": {},
          "execution_count": 147
        }
      ],
      "source": [
        "df_cleaned.head()"
      ]
    },
    {
      "cell_type": "markdown",
      "id": "db8bccec-7793-450b-8cfe-2e4fc71b5876",
      "metadata": {
        "id": "db8bccec-7793-450b-8cfe-2e4fc71b5876"
      },
      "source": [
        "### APPLYING FINAL ONE-HOT ENCODING TO CLEANED DATASET TO CONVERT THE REMAINING CATEGORICAL DATA TO NOMINAL DATASET"
      ]
    },
    {
      "cell_type": "code",
      "execution_count": 148,
      "id": "c509420b-97cb-4ceb-b0d4-e34c075cbe46",
      "metadata": {
        "colab": {
          "base_uri": "https://localhost:8080/"
        },
        "id": "c509420b-97cb-4ceb-b0d4-e34c075cbe46",
        "outputId": "38f14cc9-81b2-4270-8dd7-d14d5bc09c1c"
      },
      "outputs": [
        {
          "output_type": "stream",
          "name": "stdout",
          "text": [
            "3\n",
            "['Brand', 'Model', 'Processor']\n"
          ]
        }
      ],
      "source": [
        "df_encod = df_cleaned.copy()\n",
        "\n",
        "object_features = df_encod.select_dtypes(include = \"object\").columns.tolist()\n",
        "print(len(object_features))\n",
        "print(object_features)"
      ]
    },
    {
      "cell_type": "code",
      "execution_count": 149,
      "id": "4d01806d-82e0-459a-bd62-dcbde5b197c2",
      "metadata": {
        "colab": {
          "base_uri": "https://localhost:8080/"
        },
        "id": "4d01806d-82e0-459a-bd62-dcbde5b197c2",
        "outputId": "7b69e30c-b128-423e-c1dc-6bd3a97a3da1"
      },
      "outputs": [
        {
          "output_type": "stream",
          "name": "stdout",
          "text": [
            "Shape of df before encoding:  (1256, 11)\n",
            "Shape of df after encoding:  (1256, 1388)\n"
          ]
        }
      ],
      "source": [
        "print(\"Shape of df before encoding: \", df_encod.shape)\n",
        "\n",
        "df_encod = pd.get_dummies(df_encod,\n",
        "               columns=object_features,\n",
        "               prefix = object_features,\n",
        "               drop_first = True).astype(int)\n",
        "\n",
        "print(\"Shape of df after encoding: \", df_encod.shape)"
      ]
    },
    {
      "cell_type": "code",
      "execution_count": 150,
      "id": "c563c3a7-d88d-4e39-aeee-103df038f5ad",
      "metadata": {
        "id": "c563c3a7-d88d-4e39-aeee-103df038f5ad"
      },
      "outputs": [],
      "source": [
        "df = df_encod.copy()"
      ]
    },
    {
      "cell_type": "markdown",
      "id": "9c0d697e-7b15-4243-b6e6-01023120509a",
      "metadata": {
        "id": "9c0d697e-7b15-4243-b6e6-01023120509a"
      },
      "source": [
        "## Splitting the dataset into X and Y for training and testing"
      ]
    },
    {
      "cell_type": "code",
      "execution_count": 151,
      "id": "1810d496-63ca-4d29-aba7-a20a7e477004",
      "metadata": {
        "id": "1810d496-63ca-4d29-aba7-a20a7e477004"
      },
      "outputs": [],
      "source": [
        "X = df.drop(columns = \"Price (Rs.)\")\n",
        "y = df[\"Price (Rs.)\"]"
      ]
    },
    {
      "cell_type": "code",
      "execution_count": 152,
      "id": "3be24e82-4c0e-48e2-b2fc-3d065da2125f",
      "metadata": {
        "id": "3be24e82-4c0e-48e2-b2fc-3d065da2125f"
      },
      "outputs": [],
      "source": [
        "X_train, X_test, y_train, y_test = train_test_split(X,y, test_size=0.2, random_state=42)"
      ]
    },
    {
      "cell_type": "markdown",
      "id": "05ff0f74-aa8d-4257-86ca-2378f6d59efd",
      "metadata": {
        "id": "05ff0f74-aa8d-4257-86ca-2378f6d59efd"
      },
      "source": [
        "## Feature Scaling"
      ]
    },
    {
      "cell_type": "code",
      "execution_count": 153,
      "id": "b4caeff1-d6dc-4968-b0b2-01e1a6f8a99c",
      "metadata": {
        "id": "b4caeff1-d6dc-4968-b0b2-01e1a6f8a99c"
      },
      "outputs": [],
      "source": [
        "sc = StandardScaler()\n",
        "sc.fit(X_train)\n",
        "X_train = sc.transform(X_train)\n",
        "X_test = sc.transform(X_test)"
      ]
    },
    {
      "cell_type": "markdown",
      "id": "68d32bc2-d1d5-4e69-9595-57977e975f75",
      "metadata": {
        "id": "68d32bc2-d1d5-4e69-9595-57977e975f75"
      },
      "source": [
        "## Training Multiple Models - Pre-requisites"
      ]
    },
    {
      "cell_type": "code",
      "execution_count": 154,
      "id": "3d7fbdb0-21d8-41a4-946e-f73b4f937d06",
      "metadata": {
        "id": "3d7fbdb0-21d8-41a4-946e-f73b4f937d06"
      },
      "outputs": [],
      "source": [
        "from sklearn.metrics import mean_squared_error, mean_absolute_error, r2_score"
      ]
    },
    {
      "cell_type": "code",
      "execution_count": 155,
      "id": "fe27f031-a594-4bad-8cd4-cada4f0375b9",
      "metadata": {
        "id": "fe27f031-a594-4bad-8cd4-cada4f0375b9"
      },
      "outputs": [],
      "source": [
        "# Function to get metrics\n",
        "def get_metrics(y_test, y_pred, model_name):\n",
        "    MSE = mean_squared_error(y_test, y_pred)\n",
        "    RMSE = np.sqrt(MSE)\n",
        "    MAE = mean_absolute_error(y_test, y_pred)\n",
        "    R2 = r2_score(y_test, y_pred)\n",
        "\n",
        "    print(f\"{model_name} : ['MSE': {round(MSE, 3)}, 'RMSE': {round(RMSE, 3)}, 'MAE': {round(MAE, 3)}, 'R2': {round(R2, 3)}]\")"
      ]
    },
    {
      "cell_type": "markdown",
      "id": "8e876534-066c-47a9-9d11-302132d0b4b4",
      "metadata": {
        "id": "8e876534-066c-47a9-9d11-302132d0b4b4"
      },
      "source": [
        "## Training Multiple Models"
      ]
    },
    {
      "cell_type": "code",
      "execution_count": 156,
      "id": "1f4f407d-01ee-471a-9231-0099c56d4da6",
      "metadata": {
        "id": "1f4f407d-01ee-471a-9231-0099c56d4da6"
      },
      "outputs": [],
      "source": [
        "from sklearn.linear_model import LinearRegression, Ridge, Lasso\n",
        "from sklearn.preprocessing import PolynomialFeatures\n",
        "from sklearn.svm import SVR\n",
        "from sklearn.neighbors import KNeighborsRegressor\n",
        "from sklearn.tree import DecisionTreeRegressor\n",
        "from sklearn.ensemble import RandomForestRegressor\n",
        "from xgboost import XGBRegressor"
      ]
    },
    {
      "cell_type": "code",
      "execution_count": 157,
      "id": "0df544d7-f71e-45fd-afd9-1573f08884c8",
      "metadata": {
        "colab": {
          "base_uri": "https://localhost:8080/"
        },
        "id": "0df544d7-f71e-45fd-afd9-1573f08884c8",
        "outputId": "3dfd0018-c82c-4172-afbb-cf1f1f48bd39"
      },
      "outputs": [
        {
          "output_type": "stream",
          "name": "stderr",
          "text": [
            "/usr/local/lib/python3.10/dist-packages/sklearn/linear_model/_coordinate_descent.py:697: ConvergenceWarning: Objective did not converge. You might want to increase the number of iterations, check the scale of the features or consider increasing regularisation. Duality gap: 1.283e+08, tolerance: 4.501e+07\n",
            "  model = cd_fast.enet_coordinate_descent(\n"
          ]
        }
      ],
      "source": [
        "# Training Ridge and Lasso Regression\n",
        "rir = Ridge().fit(X_train, y_train)\n",
        "y_pred_rir = rir.predict(X_test)\n",
        "\n",
        "lar = Lasso().fit(X_train, y_train)\n",
        "y_pred_lar = lar.predict(X_test)\n"
      ]
    },
    {
      "cell_type": "markdown",
      "id": "a93ed619-e238-4663-a9b3-726ba1772ce2",
      "metadata": {
        "id": "a93ed619-e238-4663-a9b3-726ba1772ce2"
      },
      "source": [
        "### Scores after models are trained"
      ]
    },
    {
      "cell_type": "code",
      "execution_count": 158,
      "id": "f9609c96-ec44-4568-8662-488658843a4a",
      "metadata": {
        "colab": {
          "base_uri": "https://localhost:8080/"
        },
        "id": "f9609c96-ec44-4568-8662-488658843a4a",
        "outputId": "ae83061e-4883-4d78-d2b5-54f9810b5ff5"
      },
      "outputs": [
        {
          "output_type": "stream",
          "name": "stdout",
          "text": [
            "Ridge : ['MSE': 149925214.229, 'RMSE': 12244.395, 'MAE': 8195.716, 'R2': 0.725]\n",
            "Lasso : ['MSE': 152936824.274, 'RMSE': 12366.763, 'MAE': 7071.383, 'R2': 0.72]\n"
          ]
        }
      ],
      "source": [
        "# Get metrics for each model\n",
        "\n",
        "get_metrics(y_test, y_pred_rir, \"Ridge\")\n",
        "get_metrics(y_test, y_pred_lar, \"Lasso\")"
      ]
    },
    {
      "cell_type": "code",
      "source": [
        "# # Polynomial Regression\n",
        "# poly = PolynomialFeatures(2)\n",
        "# X_train_poly = poly.fit_transform(X_train)\n",
        "# X_test_poly = poly.transform(X_test)\n",
        "\n",
        "# poly_r = LinearRegression().fit(X_train_poly, y_train)\n",
        "# y_pred_poly = poly_r.predict(X_test_poly)"
      ],
      "metadata": {
        "id": "z8lRxHCp9D9u"
      },
      "id": "z8lRxHCp9D9u",
      "execution_count": 159,
      "outputs": []
    },
    {
      "cell_type": "code",
      "source": [
        "# get_metrics(y_test, y_pred_poly, \"PolynomialFeatures\")"
      ],
      "metadata": {
        "id": "weicZveE9EAq"
      },
      "id": "weicZveE9EAq",
      "execution_count": 160,
      "outputs": []
    },
    {
      "cell_type": "code",
      "source": [
        "# Support Vector Regression\n",
        "svr = SVR().fit(X_train, y_train)\n",
        "y_pred_svr = svr.predict(X_test)"
      ],
      "metadata": {
        "id": "WSvDNDTg9EEH"
      },
      "id": "WSvDNDTg9EEH",
      "execution_count": 161,
      "outputs": []
    },
    {
      "cell_type": "code",
      "source": [
        "get_metrics(y_test, y_pred_svr, \"SVR\")"
      ],
      "metadata": {
        "colab": {
          "base_uri": "https://localhost:8080/"
        },
        "id": "jQe-Z8Oc9EHK",
        "outputId": "90a0a35c-c728-4f65-ddc8-4a6bb250a5da"
      },
      "id": "jQe-Z8Oc9EHK",
      "execution_count": 162,
      "outputs": [
        {
          "output_type": "stream",
          "name": "stdout",
          "text": [
            "SVR : ['MSE': 597654284.024, 'RMSE': 24446.969, 'MAE': 14849.055, 'R2': -0.095]\n"
          ]
        }
      ]
    },
    {
      "cell_type": "code",
      "source": [
        "# KNeighbors Regressor\n",
        "knnr = KNeighborsRegressor().fit(X_train, y_train)\n",
        "y_pred_knnr = knnr.predict(X_test)"
      ],
      "metadata": {
        "id": "3qfFLAuY9EJy"
      },
      "id": "3qfFLAuY9EJy",
      "execution_count": 163,
      "outputs": []
    },
    {
      "cell_type": "code",
      "source": [
        "get_metrics(y_test, y_pred_knnr, \"KNeighborsRegressor\")"
      ],
      "metadata": {
        "colab": {
          "base_uri": "https://localhost:8080/"
        },
        "id": "ebuXXrav9EMo",
        "outputId": "4e08778b-012f-4769-abeb-6e0a5f9ba354"
      },
      "id": "ebuXXrav9EMo",
      "execution_count": 164,
      "outputs": [
        {
          "output_type": "stream",
          "name": "stdout",
          "text": [
            "KNeighborsRegressor : ['MSE': 491608995.693, 'RMSE': 22172.257, 'MAE': 14017.889, 'R2': 0.099]\n"
          ]
        }
      ]
    },
    {
      "cell_type": "code",
      "source": [
        "# Decision Tree Regressor\n",
        "dtr = DecisionTreeRegressor().fit(X_train, y_train)\n",
        "y_pred_dtr = dtr.predict(X_test)"
      ],
      "metadata": {
        "id": "Hpw6NsIU9EPW"
      },
      "id": "Hpw6NsIU9EPW",
      "execution_count": 165,
      "outputs": []
    },
    {
      "cell_type": "code",
      "source": [
        "get_metrics(y_test, y_pred_dtr, \"DecisionTreeRegressor\")"
      ],
      "metadata": {
        "colab": {
          "base_uri": "https://localhost:8080/"
        },
        "id": "KnoceZro9ESS",
        "outputId": "8d4a2225-1654-43ac-b5ef-3a69492e7038"
      },
      "id": "KnoceZro9ESS",
      "execution_count": 166,
      "outputs": [
        {
          "output_type": "stream",
          "name": "stdout",
          "text": [
            "DecisionTreeRegressor : ['MSE': 92435976.825, 'RMSE': 9614.363, 'MAE': 5988.968, 'R2': 0.831]\n"
          ]
        }
      ]
    },
    {
      "cell_type": "code",
      "source": [
        "# Random Forest Regressor\n",
        "rfr = RandomForestRegressor().fit(X_train, y_train)\n",
        "y_pred_rfr = rfr.predict(X_test)"
      ],
      "metadata": {
        "id": "6sSD7ual9EVR"
      },
      "id": "6sSD7ual9EVR",
      "execution_count": 167,
      "outputs": []
    },
    {
      "cell_type": "code",
      "source": [
        "get_metrics(y_test, y_pred_rfr, \"RandomForestRegressor\")"
      ],
      "metadata": {
        "colab": {
          "base_uri": "https://localhost:8080/"
        },
        "id": "2PJc7nHz9EX4",
        "outputId": "36295568-4314-4fc2-9d74-28a637ed7ec0"
      },
      "id": "2PJc7nHz9EX4",
      "execution_count": 168,
      "outputs": [
        {
          "output_type": "stream",
          "name": "stdout",
          "text": [
            "RandomForestRegressor : ['MSE': 63628866.694, 'RMSE': 7976.77, 'MAE': 5097.326, 'R2': 0.883]\n"
          ]
        }
      ]
    },
    {
      "cell_type": "code",
      "source": [
        "# XGBoost Regressor\n",
        "xgbr = XGBRegressor().fit(X_train, y_train)\n",
        "y_pred_xgbr = xgbr.predict(X_test)"
      ],
      "metadata": {
        "id": "jmfkhiE79Xh9"
      },
      "id": "jmfkhiE79Xh9",
      "execution_count": 169,
      "outputs": []
    },
    {
      "cell_type": "code",
      "source": [
        "get_metrics(y_test, y_pred_xgbr, \"XGBRegressor\")"
      ],
      "metadata": {
        "colab": {
          "base_uri": "https://localhost:8080/"
        },
        "id": "JTc4B6FH9Xll",
        "outputId": "0668b721-aaad-44c9-e2d7-79b5b29ead6c"
      },
      "id": "JTc4B6FH9Xll",
      "execution_count": 170,
      "outputs": [
        {
          "output_type": "stream",
          "name": "stdout",
          "text": [
            "XGBRegressor : ['MSE': 51939006.055, 'RMSE': 7206.872, 'MAE': 4799.536, 'R2': 0.905]\n"
          ]
        }
      ]
    },
    {
      "cell_type": "code",
      "source": [
        "# Gradient Boosting Regressor\n",
        "from sklearn.ensemble import GradientBoostingRegressor\n",
        "gbr = GradientBoostingRegressor().fit(X_train, y_train)\n",
        "y_pred_gbr = gbr.predict(X_test)\n",
        "get_metrics(y_test, y_pred_gbr, \"GradientBoostingRegressor\")"
      ],
      "metadata": {
        "colab": {
          "base_uri": "https://localhost:8080/"
        },
        "id": "4OrKBPrMIdhC",
        "outputId": "8525345c-126c-4011-9a01-f13638ade8fb"
      },
      "id": "4OrKBPrMIdhC",
      "execution_count": 171,
      "outputs": [
        {
          "output_type": "stream",
          "name": "stdout",
          "text": [
            "GradientBoostingRegressor : ['MSE': 69175491.008, 'RMSE': 8317.18, 'MAE': 5958.73, 'R2': 0.873]\n"
          ]
        }
      ]
    },
    {
      "cell_type": "code",
      "source": [
        "# AdaBoost Regressor\n",
        "from sklearn.ensemble import AdaBoostRegressor\n",
        "abr = AdaBoostRegressor().fit(X_train, y_train)\n",
        "y_pred_abr = abr.predict(X_test)\n",
        "get_metrics(y_test, y_pred_abr, \"AdaBoostRegressor\")"
      ],
      "metadata": {
        "colab": {
          "base_uri": "https://localhost:8080/"
        },
        "id": "_U-nlcEWIdkm",
        "outputId": "f4a69cf4-ec8d-4aeb-a12b-b5798252c97d"
      },
      "id": "_U-nlcEWIdkm",
      "execution_count": 172,
      "outputs": [
        {
          "output_type": "stream",
          "name": "stdout",
          "text": [
            "AdaBoostRegressor : ['MSE': 302536253.142, 'RMSE': 17393.569, 'MAE': 14792.422, 'R2': 0.446]\n"
          ]
        }
      ]
    },
    {
      "cell_type": "code",
      "source": [
        "# Extra Trees Regressor\n",
        "from sklearn.ensemble import ExtraTreesRegressor\n",
        "etr = ExtraTreesRegressor().fit(X_train, y_train)\n",
        "y_pred_etr = etr.predict(X_test)\n",
        "get_metrics(y_test, y_pred_etr, \"ExtraTreesRegressor\")"
      ],
      "metadata": {
        "colab": {
          "base_uri": "https://localhost:8080/"
        },
        "id": "hf2iQKTpIdoF",
        "outputId": "91f70d50-9626-49f4-b9a5-55c12ac7a829"
      },
      "id": "hf2iQKTpIdoF",
      "execution_count": 173,
      "outputs": [
        {
          "output_type": "stream",
          "name": "stdout",
          "text": [
            "ExtraTreesRegressor : ['MSE': 60433619.747, 'RMSE': 7773.906, 'MAE': 4790.43, 'R2': 0.889]\n"
          ]
        }
      ]
    },
    {
      "cell_type": "code",
      "source": [
        "# LightGBM Regressor\n",
        "from lightgbm import LGBMRegressor\n",
        "lgbmr = LGBMRegressor().fit(X_train, y_train)\n",
        "y_pred_lgbmr = lgbmr.predict(X_test)\n",
        "get_metrics(y_test, y_pred_lgbmr, \"LGBMRegressor\")"
      ],
      "metadata": {
        "colab": {
          "base_uri": "https://localhost:8080/"
        },
        "id": "AnB7BtxVIdrQ",
        "outputId": "48ef3f6e-c13d-444b-bfd7-8e6a344dd85c"
      },
      "id": "AnB7BtxVIdrQ",
      "execution_count": 174,
      "outputs": [
        {
          "output_type": "stream",
          "name": "stdout",
          "text": [
            "[LightGBM] [Info] Auto-choosing row-wise multi-threading, the overhead of testing was 0.000261 seconds.\n",
            "You can set `force_row_wise=true` to remove the overhead.\n",
            "And if memory is not enough, you can set `force_col_wise=true`.\n",
            "[LightGBM] [Info] Total Bins 170\n",
            "[LightGBM] [Info] Number of data points in the train set: 1004, number of used features: 18\n",
            "[LightGBM] [Info] Start training from score 26384.005976\n",
            "LGBMRegressor : ['MSE': 115096648.256, 'RMSE': 10728.311, 'MAE': 6373.899, 'R2': 0.789]\n"
          ]
        }
      ]
    },
    {
      "cell_type": "code",
      "source": [
        "# CatBoost Regressor\n",
        "from catboost import CatBoostRegressor\n",
        "cbr = CatBoostRegressor(verbose=0).fit(X_train, y_train)\n",
        "y_pred_cbr = cbr.predict(X_test)\n",
        "get_metrics(y_test, y_pred_cbr, \"CatBoostRegressor\")"
      ],
      "metadata": {
        "colab": {
          "base_uri": "https://localhost:8080/"
        },
        "id": "F1d8BnbDIduO",
        "outputId": "697b4337-1cd7-47ec-a238-4da46a4e640e"
      },
      "id": "F1d8BnbDIduO",
      "execution_count": 175,
      "outputs": [
        {
          "output_type": "stream",
          "name": "stdout",
          "text": [
            "CatBoostRegressor : ['MSE': 58876922.641, 'RMSE': 7673.13, 'MAE': 4880.341, 'R2': 0.892]\n"
          ]
        }
      ]
    },
    {
      "cell_type": "code",
      "source": [
        "# ElasticNet Regression\n",
        "from sklearn.linear_model import ElasticNet\n",
        "en = ElasticNet().fit(X_train, y_train)\n",
        "y_pred_en = en.predict(X_test)\n",
        "get_metrics(y_test, y_pred_en, \"ElasticNet\")"
      ],
      "metadata": {
        "colab": {
          "base_uri": "https://localhost:8080/"
        },
        "id": "wZxwxa-3IdxJ",
        "outputId": "de4a6caf-c274-4f33-bf2f-a276fc3fedb0"
      },
      "id": "wZxwxa-3IdxJ",
      "execution_count": 176,
      "outputs": [
        {
          "output_type": "stream",
          "name": "stdout",
          "text": [
            "ElasticNet : ['MSE': 159428587.32, 'RMSE': 12626.503, 'MAE': 8526.763, 'R2': 0.708]\n"
          ]
        }
      ]
    },
    {
      "cell_type": "code",
      "source": [
        "# Huber Regressor\n",
        "from sklearn.linear_model import HuberRegressor\n",
        "hr = HuberRegressor().fit(X_train, y_train)\n",
        "y_pred_hr = hr.predict(X_test)\n",
        "get_metrics(y_test, y_pred_hr, \"HuberRegressor\")"
      ],
      "metadata": {
        "colab": {
          "base_uri": "https://localhost:8080/"
        },
        "id": "OtBkakcRId0I",
        "outputId": "245535b2-300e-497a-eff1-d4215ca3a22a"
      },
      "id": "OtBkakcRId0I",
      "execution_count": 177,
      "outputs": [
        {
          "output_type": "stream",
          "name": "stdout",
          "text": [
            "HuberRegressor : ['MSE': 142509631.132, 'RMSE': 11937.74, 'MAE': 7933.562, 'R2': 0.739]\n"
          ]
        },
        {
          "output_type": "stream",
          "name": "stderr",
          "text": [
            "/usr/local/lib/python3.10/dist-packages/sklearn/linear_model/_huber.py:342: ConvergenceWarning: lbfgs failed to converge (status=1):\n",
            "STOP: TOTAL NO. of ITERATIONS REACHED LIMIT.\n",
            "\n",
            "Increase the number of iterations (max_iter) or scale the data as shown in:\n",
            "    https://scikit-learn.org/stable/modules/preprocessing.html\n",
            "  self.n_iter_ = _check_optimize_result(\"lbfgs\", opt_res, self.max_iter)\n"
          ]
        }
      ]
    },
    {
      "cell_type": "markdown",
      "id": "5cd77c5b-482a-4963-a2f6-5050f9fe43b3",
      "metadata": {
        "id": "5cd77c5b-482a-4963-a2f6-5050f9fe43b3"
      },
      "source": [
        "# Best Model for this case: XGBRegressor with 'R2': 0.905"
      ]
    },
    {
      "cell_type": "code",
      "execution_count": 178,
      "id": "3500204b-7416-45ca-a19b-838d6bca185d",
      "metadata": {
        "colab": {
          "base_uri": "https://localhost:8080/",
          "height": 472
        },
        "id": "3500204b-7416-45ca-a19b-838d6bca185d",
        "outputId": "1fd70f8c-d53e-421e-d520-54d78a41d21a"
      },
      "outputs": [
        {
          "output_type": "display_data",
          "data": {
            "text/plain": [
              "<Figure size 640x480 with 1 Axes>"
            ],
            "image/png": "[encoded data removed]"
          },
          "metadata": {}
        }
      ],
      "source": [
        "plt.scatter(y_test, y_pred_lar)\n",
        "plt.title(\"Lasso Regression: Ground Truth vs Prediction\")\n",
        "plt.xlabel(\"Ground Truth\")\n",
        "plt.ylabel(\"Prediction\")\n",
        "plt.show()"
      ]
    },
    {
      "cell_type": "code",
      "source": [
        "plt.scatter(y_test, y_pred_rfr)\n",
        "plt.title(\"Random Forest Regression: Ground Truth vs Prediction\")\n",
        "plt.xlabel(\"Ground Truth\")\n",
        "plt.ylabel(\"Prediction\")\n",
        "plt.show()"
      ],
      "metadata": {
        "colab": {
          "base_uri": "https://localhost:8080/",
          "height": 472
        },
        "id": "GiNKWWQTHfbp",
        "outputId": "47e8c093-169e-4170-f3e7-105152224b74"
      },
      "id": "GiNKWWQTHfbp",
      "execution_count": 179,
      "outputs": [
        {
          "output_type": "display_data",
          "data": {
            "text/plain": [
              "<Figure size 640x480 with 1 Axes>"
            ],
            "image/png": "[encoded data removed]"
          },
          "metadata": {}
        }
      ]
    },
    {
      "cell_type": "code",
      "source": [
        "plt.scatter(y_test, y_pred_xgbr)\n",
        "plt.title(\"XGB Regression: Ground Truth vs Prediction\")\n",
        "plt.xlabel(\"Ground Truth\")\n",
        "plt.ylabel(\"Prediction\")\n",
        "plt.show()"
      ],
      "metadata": {
        "colab": {
          "base_uri": "https://localhost:8080/",
          "height": 472
        },
        "id": "aFfynDzDHib4",
        "outputId": "6bd59b67-d8a1-4e05-9fd6-e1bf2eccea9e"
      },
      "id": "aFfynDzDHib4",
      "execution_count": 180,
      "outputs": [
        {
          "output_type": "display_data",
          "data": {
            "text/plain": [
              "<Figure size 640x480 with 1 Axes>"
            ],
            "image/png": "[encoded data removed]"
          },
          "metadata": {}
        }
      ]
    },
    {
      "cell_type": "code",
      "source": [],
      "metadata": {
        "id": "kZOQcHhRHqEp"
      },
      "id": "kZOQcHhRHqEp",
      "execution_count": 180,
      "outputs": []
    }
  ],
  "metadata": {
    "kernelspec": {
      "display_name": "Python 3 (ipykernel)",
      "language": "python",
      "name": "python3"
    },
    "language_info": {
      "codemirror_mode": {
        "name": "ipython",
        "version": 3
      },
      "file_extension": ".py",
      "mimetype": "text/x-python",
      "name": "python",
      "nbconvert_exporter": "python",
      "pygments_lexer": "ipython3",
      "version": "3.12.4"
    },
    "colab": {
      "provenance": []
    }
  },
  "nbformat": 4,
  "nbformat_minor": 5
}