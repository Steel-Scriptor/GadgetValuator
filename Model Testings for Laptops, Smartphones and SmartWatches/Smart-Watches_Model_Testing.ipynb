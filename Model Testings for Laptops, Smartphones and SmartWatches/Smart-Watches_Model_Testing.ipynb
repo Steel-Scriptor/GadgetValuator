{
  "cells": [
    {
      "cell_type": "code",
      "execution_count": 184,
      "id": "d83e8eb2-5d7c-4e4f-b52d-efaa8ccfea0f",
      "metadata": {
        "id": "d83e8eb2-5d7c-4e4f-b52d-efaa8ccfea0f"
      },
      "outputs": [],
      "source": [
        "import numpy as np\n",
        "import pandas as pd\n",
        "import matplotlib.pyplot as plt\n",
        "import seaborn as sb\n",
        "from sklearn.preprocessing import LabelEncoder\n",
        "from sklearn.preprocessing import StandardScaler\n",
        "from sklearn.model_selection import train_test_split"
      ]
    },
    {
      "cell_type": "code",
      "execution_count": 185,
      "id": "d316082d-9389-4bcc-8b5d-2e37c0f1e82e",
      "metadata": {
        "id": "d316082d-9389-4bcc-8b5d-2e37c0f1e82e"
      },
      "outputs": [],
      "source": [
        "df_cleaned = pd.read_csv(r\"/content/Cleaned Smart-Watches data.csv\")"
      ]
    },
    {
      "cell_type": "code",
      "execution_count": 186,
      "id": "3a427340-7590-4748-8098-ea5f740acee9",
      "metadata": {
        "colab": {
          "base_uri": "https://localhost:8080/",
          "height": 258
        },
        "id": "3a427340-7590-4748-8098-ea5f740acee9",
        "outputId": "a07058c9-b0e0-42b7-8170-11f16ed81d13"
      },
      "outputs": [
        {
          "output_type": "execute_result",
          "data": {
            "text/plain": [
              "     Brand           Model Operating System  Bluetooth  Wi-Fi  Cellular  \\\n",
              "0    Apple  Watch Series 7         Watch OS          1      1         1   \n",
              "1  Samsung  Galaxy Watch 4          Wear OS          1      1         1   \n",
              "2   Garmin          Venu 2        Garmin OS          1      1         0   \n",
              "3   Fitbit         Versa 3        Fitbit OS          1      1         0   \n",
              "4   Fossil           Gen 6          Wear OS          1      1         0   \n",
              "\n",
              "  Display Type  Display Size (inches) Resolution  Water Resistance (meters)  \\\n",
              "0       Retina                   1.90  396 x 484                       50.0   \n",
              "1       AMOLED                   1.40  450 x 450                       50.0   \n",
              "2       AMOLED                   1.30  416 x 416                       50.0   \n",
              "3       AMOLED                   1.58  336 x 336                       50.0   \n",
              "4       AMOLED                   1.28  416 x 416                       30.0   \n",
              "\n",
              "   Battery Life (days)  Heart Rate Monitor  GPS  NFC  Price (INR)  \n",
              "0                 18.0                   1    1    1        33117  \n",
              "1                 40.0                   1    1    1        20667  \n",
              "2                 11.0                   1    1    0        33117  \n",
              "3                  6.0                   1    1    1        19007  \n",
              "4                 24.0                   1    1    1        24817  "
            ],
            "text/html": [
              "\n",
              "  <div id=\"df-9527d56c-c307-457e-9fb0-0f8001f16c86\" class=\"colab-df-container\">\n",
              "    <div>\n",
              "<style scoped>\n",
              "    .dataframe tbody tr th:only-of-type {\n",
              "        vertical-align: middle;\n",
              "    }\n",
              "\n",
              "    .dataframe tbody tr th {\n",
              "        vertical-align: top;\n",
              "    }\n",
              "\n",
              "    .dataframe thead th {\n",
              "        text-align: right;\n",
              "    }\n",
              "</style>\n",
              "<table border=\"1\" class=\"dataframe\">\n",
              "  <thead>\n",
              "    <tr style=\"text-align: right;\">\n",
              "      <th></th>\n",
              "      <th>Brand</th>\n",
              "      <th>Model</th>\n",
              "      <th>Operating System</th>\n",
              "      <th>Bluetooth</th>\n",
              "      <th>Wi-Fi</th>\n",
              "      <th>Cellular</th>\n",
              "      <th>Display Type</th>\n",
              "      <th>Display Size (inches)</th>\n",
              "      <th>Resolution</th>\n",
              "      <th>Water Resistance (meters)</th>\n",
              "      <th>Battery Life (days)</th>\n",
              "      <th>Heart Rate Monitor</th>\n",
              "      <th>GPS</th>\n",
              "      <th>NFC</th>\n",
              "      <th>Price (INR)</th>\n",
              "    </tr>\n",
              "  </thead>\n",
              "  <tbody>\n",
              "    <tr>\n",
              "      <th>0</th>\n",
              "      <td>Apple</td>\n",
              "      <td>Watch Series 7</td>\n",
              "      <td>Watch OS</td>\n",
              "      <td>1</td>\n",
              "      <td>1</td>\n",
              "      <td>1</td>\n",
              "      <td>Retina</td>\n",
              "      <td>1.90</td>\n",
              "      <td>396 x 484</td>\n",
              "      <td>50.0</td>\n",
              "      <td>18.0</td>\n",
              "      <td>1</td>\n",
              "      <td>1</td>\n",
              "      <td>1</td>\n",
              "      <td>33117</td>\n",
              "    </tr>\n",
              "    <tr>\n",
              "      <th>1</th>\n",
              "      <td>Samsung</td>\n",
              "      <td>Galaxy Watch 4</td>\n",
              "      <td>Wear OS</td>\n",
              "      <td>1</td>\n",
              "      <td>1</td>\n",
              "      <td>1</td>\n",
              "      <td>AMOLED</td>\n",
              "      <td>1.40</td>\n",
              "      <td>450 x 450</td>\n",
              "      <td>50.0</td>\n",
              "      <td>40.0</td>\n",
              "      <td>1</td>\n",
              "      <td>1</td>\n",
              "      <td>1</td>\n",
              "      <td>20667</td>\n",
              "    </tr>\n",
              "    <tr>\n",
              "      <th>2</th>\n",
              "      <td>Garmin</td>\n",
              "      <td>Venu 2</td>\n",
              "      <td>Garmin OS</td>\n",
              "      <td>1</td>\n",
              "      <td>1</td>\n",
              "      <td>0</td>\n",
              "      <td>AMOLED</td>\n",
              "      <td>1.30</td>\n",
              "      <td>416 x 416</td>\n",
              "      <td>50.0</td>\n",
              "      <td>11.0</td>\n",
              "      <td>1</td>\n",
              "      <td>1</td>\n",
              "      <td>0</td>\n",
              "      <td>33117</td>\n",
              "    </tr>\n",
              "    <tr>\n",
              "      <th>3</th>\n",
              "      <td>Fitbit</td>\n",
              "      <td>Versa 3</td>\n",
              "      <td>Fitbit OS</td>\n",
              "      <td>1</td>\n",
              "      <td>1</td>\n",
              "      <td>0</td>\n",
              "      <td>AMOLED</td>\n",
              "      <td>1.58</td>\n",
              "      <td>336 x 336</td>\n",
              "      <td>50.0</td>\n",
              "      <td>6.0</td>\n",
              "      <td>1</td>\n",
              "      <td>1</td>\n",
              "      <td>1</td>\n",
              "      <td>19007</td>\n",
              "    </tr>\n",
              "    <tr>\n",
              "      <th>4</th>\n",
              "      <td>Fossil</td>\n",
              "      <td>Gen 6</td>\n",
              "      <td>Wear OS</td>\n",
              "      <td>1</td>\n",
              "      <td>1</td>\n",
              "      <td>0</td>\n",
              "      <td>AMOLED</td>\n",
              "      <td>1.28</td>\n",
              "      <td>416 x 416</td>\n",
              "      <td>30.0</td>\n",
              "      <td>24.0</td>\n",
              "      <td>1</td>\n",
              "      <td>1</td>\n",
              "      <td>1</td>\n",
              "      <td>24817</td>\n",
              "    </tr>\n",
              "  </tbody>\n",
              "</table>\n",
              "</div>\n",
              "    <div class=\"colab-df-buttons\">\n",
              "\n",
              "  <div class=\"colab-df-container\">\n",
              "    <button class=\"colab-df-convert\" onclick=\"convertToInteractive('df-9527d56c-c307-457e-9fb0-0f8001f16c86')\"\n",
              "            title=\"Convert this dataframe to an interactive table.\"\n",
              "            style=\"display:none;\">\n",
              "\n",
              "  <svg xmlns=\"http://www.w3.org/2000/svg\" height=\"24px\" viewBox=\"0 -960 960 960\">\n",
              "    <path d=\"M120-120v-720h720v720H120Zm60-500h600v-160H180v160Zm220 220h160v-160H400v160Zm0 220h160v-160H400v160ZM180-400h160v-160H180v160Zm440 0h160v-160H620v160ZM180-180h160v-160H180v160Zm440 0h160v-160H620v160Z\"/>\n",
              "  </svg>\n",
              "    </button>\n",
              "\n",
              "  <style>\n",
              "    .colab-df-container {\n",
              "      display:flex;\n",
              "      gap: 12px;\n",
              "    }\n",
              "\n",
              "    .colab-df-convert {\n",
              "      background-color: #E8F0FE;\n",
              "      border: none;\n",
              "      border-radius: 50%;\n",
              "      cursor: pointer;\n",
              "      display: none;\n",
              "      fill: #1967D2;\n",
              "      height: 32px;\n",
              "      padding: 0 0 0 0;\n",
              "      width: 32px;\n",
              "    }\n",
              "\n",
              "    .colab-df-convert:hover {\n",
              "      background-color: #E2EBFA;\n",
              "      box-shadow: 0px 1px 2px rgba(60, 64, 67, 0.3), 0px 1px 3px 1px rgba(60, 64, 67, 0.15);\n",
              "      fill: #174EA6;\n",
              "    }\n",
              "\n",
              "    .colab-df-buttons div {\n",
              "      margin-bottom: 4px;\n",
              "    }\n",
              "\n",
              "    [theme=dark] .colab-df-convert {\n",
              "      background-color: #3B4455;\n",
              "      fill: #D2E3FC;\n",
              "    }\n",
              "\n",
              "    [theme=dark] .colab-df-convert:hover {\n",
              "      background-color: #434B5C;\n",
              "      box-shadow: 0px 1px 3px 1px rgba(0, 0, 0, 0.15);\n",
              "      filter: drop-shadow(0px 1px 2px rgba(0, 0, 0, 0.3));\n",
              "      fill: #FFFFFF;\n",
              "    }\n",
              "  </style>\n",
              "\n",
              "    <script>\n",
              "      const buttonEl =\n",
              "        document.querySelector('#df-9527d56c-c307-457e-9fb0-0f8001f16c86 button.colab-df-convert');\n",
              "      buttonEl.style.display =\n",
              "        google.colab.kernel.accessAllowed ? 'block' : 'none';\n",
              "\n",
              "      async function convertToInteractive(key) {\n",
              "        const element = document.querySelector('#df-9527d56c-c307-457e-9fb0-0f8001f16c86');\n",
              "        const dataTable =\n",
              "          await google.colab.kernel.invokeFunction('convertToInteractive',\n",
              "                                                    [key], {});\n",
              "        if (!dataTable) return;\n",
              "\n",
              "        const docLinkHtml = 'Like what you see? Visit the ' +\n",
              "          '<a target=\"_blank\" href=https://colab.research.google.com/notebooks/data_table.ipynb>data table notebook</a>'\n",
              "          + ' to learn more about interactive tables.';\n",
              "        element.innerHTML = '';\n",
              "        dataTable['output_type'] = 'display_data';\n",
              "        await google.colab.output.renderOutput(dataTable, element);\n",
              "        const docLink = document.createElement('div');\n",
              "        docLink.innerHTML = docLinkHtml;\n",
              "        element.appendChild(docLink);\n",
              "      }\n",
              "    </script>\n",
              "  </div>\n",
              "\n",
              "\n",
              "<div id=\"df-c0c45bb3-7b8c-4646-bd99-9844e065e453\">\n",
              "  <button class=\"colab-df-quickchart\" onclick=\"quickchart('df-c0c45bb3-7b8c-4646-bd99-9844e065e453')\"\n",
              "            title=\"Suggest charts\"\n",
              "            style=\"display:none;\">\n",
              "\n",
              "<svg xmlns=\"http://www.w3.org/2000/svg\" height=\"24px\"viewBox=\"0 0 24 24\"\n",
              "     width=\"24px\">\n",
              "    <g>\n",
              "        <path d=\"M19 3H5c-1.1 0-2 .9-2 2v14c0 1.1.9 2 2 2h14c1.1 0 2-.9 2-2V5c0-1.1-.9-2-2-2zM9 17H7v-7h2v7zm4 0h-2V7h2v10zm4 0h-2v-4h2v4z\"/>\n",
              "    </g>\n",
              "</svg>\n",
              "  </button>\n",
              "\n",
              "<style>\n",
              "  .colab-df-quickchart {\n",
              "      --bg-color: #E8F0FE;\n",
              "      --fill-color: #1967D2;\n",
              "      --hover-bg-color: #E2EBFA;\n",
              "      --hover-fill-color: #174EA6;\n",
              "      --disabled-fill-color: #AAA;\n",
              "      --disabled-bg-color: #DDD;\n",
              "  }\n",
              "\n",
              "  [theme=dark] .colab-df-quickchart {\n",
              "      --bg-color: #3B4455;\n",
              "      --fill-color: #D2E3FC;\n",
              "      --hover-bg-color: #434B5C;\n",
              "      --hover-fill-color: #FFFFFF;\n",
              "      --disabled-bg-color: #3B4455;\n",
              "      --disabled-fill-color: #666;\n",
              "  }\n",
              "\n",
              "  .colab-df-quickchart {\n",
              "    background-color: var(--bg-color);\n",
              "    border: none;\n",
              "    border-radius: 50%;\n",
              "    cursor: pointer;\n",
              "    display: none;\n",
              "    fill: var(--fill-color);\n",
              "    height: 32px;\n",
              "    padding: 0;\n",
              "    width: 32px;\n",
              "  }\n",
              "\n",
              "  .colab-df-quickchart:hover {\n",
              "    background-color: var(--hover-bg-color);\n",
              "    box-shadow: 0 1px 2px rgba(60, 64, 67, 0.3), 0 1px 3px 1px rgba(60, 64, 67, 0.15);\n",
              "    fill: var(--button-hover-fill-color);\n",
              "  }\n",
              "\n",
              "  .colab-df-quickchart-complete:disabled,\n",
              "  .colab-df-quickchart-complete:disabled:hover {\n",
              "    background-color: var(--disabled-bg-color);\n",
              "    fill: var(--disabled-fill-color);\n",
              "    box-shadow: none;\n",
              "  }\n",
              "\n",
              "  .colab-df-spinner {\n",
              "    border: 2px solid var(--fill-color);\n",
              "    border-color: transparent;\n",
              "    border-bottom-color: var(--fill-color);\n",
              "    animation:\n",
              "      spin 1s steps(1) infinite;\n",
              "  }\n",
              "\n",
              "  @keyframes spin {\n",
              "    0% {\n",
              "      border-color: transparent;\n",
              "      border-bottom-color: var(--fill-color);\n",
              "      border-left-color: var(--fill-color);\n",
              "    }\n",
              "    20% {\n",
              "      border-color: transparent;\n",
              "      border-left-color: var(--fill-color);\n",
              "      border-top-color: var(--fill-color);\n",
              "    }\n",
              "    30% {\n",
              "      border-color: transparent;\n",
              "      border-left-color: var(--fill-color);\n",
              "      border-top-color: var(--fill-color);\n",
              "      border-right-color: var(--fill-color);\n",
              "    }\n",
              "    40% {\n",
              "      border-color: transparent;\n",
              "      border-right-color: var(--fill-color);\n",
              "      border-top-color: var(--fill-color);\n",
              "    }\n",
              "    60% {\n",
              "      border-color: transparent;\n",
              "      border-right-color: var(--fill-color);\n",
              "    }\n",
              "    80% {\n",
              "      border-color: transparent;\n",
              "      border-right-color: var(--fill-color);\n",
              "      border-bottom-color: var(--fill-color);\n",
              "    }\n",
              "    90% {\n",
              "      border-color: transparent;\n",
              "      border-bottom-color: var(--fill-color);\n",
              "    }\n",
              "  }\n",
              "</style>\n",
              "\n",
              "  <script>\n",
              "    async function quickchart(key) {\n",
              "      const quickchartButtonEl =\n",
              "        document.querySelector('#' + key + ' button');\n",
              "      quickchartButtonEl.disabled = true;  // To prevent multiple clicks.\n",
              "      quickchartButtonEl.classList.add('colab-df-spinner');\n",
              "      try {\n",
              "        const charts = await google.colab.kernel.invokeFunction(\n",
              "            'suggestCharts', [key], {});\n",
              "      } catch (error) {\n",
              "        console.error('Error during call to suggestCharts:', error);\n",
              "      }\n",
              "      quickchartButtonEl.classList.remove('colab-df-spinner');\n",
              "      quickchartButtonEl.classList.add('colab-df-quickchart-complete');\n",
              "    }\n",
              "    (() => {\n",
              "      let quickchartButtonEl =\n",
              "        document.querySelector('#df-c0c45bb3-7b8c-4646-bd99-9844e065e453 button');\n",
              "      quickchartButtonEl.style.display =\n",
              "        google.colab.kernel.accessAllowed ? 'block' : 'none';\n",
              "    })();\n",
              "  </script>\n",
              "</div>\n",
              "\n",
              "    </div>\n",
              "  </div>\n"
            ],
            "application/vnd.google.colaboratory.intrinsic+json": {
              "type": "dataframe",
              "variable_name": "df_cleaned",
              "summary": "{\n  \"name\": \"df_cleaned\",\n  \"rows\": 366,\n  \"fields\": [\n    {\n      \"column\": \"Brand\",\n      \"properties\": {\n        \"dtype\": \"category\",\n        \"num_unique_values\": 39,\n        \"samples\": [\n          \"TAG Heuer\",\n          \"Asus\",\n          \"Fossil\"\n        ],\n        \"semantic_type\": \"\",\n        \"description\": \"\"\n      }\n    },\n    {\n      \"column\": \"Model\",\n      \"properties\": {\n        \"dtype\": \"category\",\n        \"num_unique_values\": 128,\n        \"samples\": [\n          \"Magic Watch 2\",\n          \"TicWatch Pro 3\",\n          \"Venu Sq Music\"\n        ],\n        \"semantic_type\": \"\",\n        \"description\": \"\"\n      }\n    },\n    {\n      \"column\": \"Operating System\",\n      \"properties\": {\n        \"dtype\": \"category\",\n        \"num_unique_values\": 30,\n        \"samples\": [\n          \"Casio OS\",\n          \"MIUI for Watch\",\n          \"Zepp OS\"\n        ],\n        \"semantic_type\": \"\",\n        \"description\": \"\"\n      }\n    },\n    {\n      \"column\": \"Bluetooth\",\n      \"properties\": {\n        \"dtype\": \"number\",\n        \"std\": 0,\n        \"min\": 1,\n        \"max\": 1,\n        \"num_unique_values\": 1,\n        \"samples\": [\n          1\n        ],\n        \"semantic_type\": \"\",\n        \"description\": \"\"\n      }\n    },\n    {\n      \"column\": \"Wi-Fi\",\n      \"properties\": {\n        \"dtype\": \"number\",\n        \"std\": 0,\n        \"min\": 0,\n        \"max\": 1,\n        \"num_unique_values\": 2,\n        \"samples\": [\n          0\n        ],\n        \"semantic_type\": \"\",\n        \"description\": \"\"\n      }\n    },\n    {\n      \"column\": \"Cellular\",\n      \"properties\": {\n        \"dtype\": \"number\",\n        \"std\": 0,\n        \"min\": 0,\n        \"max\": 1,\n        \"num_unique_values\": 2,\n        \"samples\": [\n          0\n        ],\n        \"semantic_type\": \"\",\n        \"description\": \"\"\n      }\n    },\n    {\n      \"column\": \"Display Type\",\n      \"properties\": {\n        \"dtype\": \"category\",\n        \"num_unique_values\": 18,\n        \"samples\": [\n          \"Retina\"\n        ],\n        \"semantic_type\": \"\",\n        \"description\": \"\"\n      }\n    },\n    {\n      \"column\": \"Display Size (inches)\",\n      \"properties\": {\n        \"dtype\": \"number\",\n        \"std\": 0.22079391825387648,\n        \"min\": 0.9,\n        \"max\": 4.01,\n        \"num_unique_values\": 32,\n        \"samples\": [\n          1.5\n        ],\n        \"semantic_type\": \"\",\n        \"description\": \"\"\n      }\n    },\n    {\n      \"column\": \"Resolution\",\n      \"properties\": {\n        \"dtype\": \"category\",\n        \"num_unique_values\": 36,\n        \"samples\": [\n          \"326 x 326\"\n        ],\n        \"semantic_type\": \"\",\n        \"description\": \"\"\n      }\n    },\n    {\n      \"column\": \"Water Resistance (meters)\",\n      \"properties\": {\n        \"dtype\": \"number\",\n        \"std\": 27.06326091446119,\n        \"min\": 10.0,\n        \"max\": 200.0,\n        \"num_unique_values\": 5,\n        \"samples\": [\n          30.0\n        ],\n        \"semantic_type\": \"\",\n        \"description\": \"\"\n      }\n    },\n    {\n      \"column\": \"Battery Life (days)\",\n      \"properties\": {\n        \"dtype\": \"number\",\n        \"std\": 14.705238445104346,\n        \"min\": 1.0,\n        \"max\": 100.0,\n        \"num_unique_values\": 28,\n        \"samples\": [\n          30.0\n        ],\n        \"semantic_type\": \"\",\n        \"description\": \"\"\n      }\n    },\n    {\n      \"column\": \"Heart Rate Monitor\",\n      \"properties\": {\n        \"dtype\": \"number\",\n        \"std\": 0,\n        \"min\": 1,\n        \"max\": 1,\n        \"num_unique_values\": 1,\n        \"samples\": [\n          1\n        ],\n        \"semantic_type\": \"\",\n        \"description\": \"\"\n      }\n    },\n    {\n      \"column\": \"GPS\",\n      \"properties\": {\n        \"dtype\": \"number\",\n        \"std\": 0,\n        \"min\": 0,\n        \"max\": 1,\n        \"num_unique_values\": 2,\n        \"samples\": [\n          0\n        ],\n        \"semantic_type\": \"\",\n        \"description\": \"\"\n      }\n    },\n    {\n      \"column\": \"NFC\",\n      \"properties\": {\n        \"dtype\": \"number\",\n        \"std\": 0,\n        \"min\": 0,\n        \"max\": 1,\n        \"num_unique_values\": 2,\n        \"samples\": [\n          0\n        ],\n        \"semantic_type\": \"\",\n        \"description\": \"\"\n      }\n    },\n    {\n      \"column\": \"Price (INR)\",\n      \"properties\": {\n        \"dtype\": \"number\",\n        \"std\": 16303,\n        \"min\": 4067,\n        \"max\": 149400,\n        \"num_unique_values\": 48,\n        \"samples\": [\n          45567\n        ],\n        \"semantic_type\": \"\",\n        \"description\": \"\"\n      }\n    }\n  ]\n}"
            }
          },
          "metadata": {},
          "execution_count": 186
        }
      ],
      "source": [
        "df_cleaned.head()"
      ]
    },
    {
      "cell_type": "markdown",
      "id": "db8bccec-7793-450b-8cfe-2e4fc71b5876",
      "metadata": {
        "id": "db8bccec-7793-450b-8cfe-2e4fc71b5876"
      },
      "source": [
        "### APPLYING FINAL ONE-HOT ENCODING TO CLEANED DATASET TO CONVERT THE REMAINING CATEGORICAL DATA TO NOMINAL DATASET"
      ]
    },
    {
      "cell_type": "code",
      "execution_count": 187,
      "id": "c509420b-97cb-4ceb-b0d4-e34c075cbe46",
      "metadata": {
        "colab": {
          "base_uri": "https://localhost:8080/"
        },
        "id": "c509420b-97cb-4ceb-b0d4-e34c075cbe46",
        "outputId": "a75436d3-9851-4182-ea90-a4aefd7efa48"
      },
      "outputs": [
        {
          "output_type": "stream",
          "name": "stdout",
          "text": [
            "5\n",
            "['Brand', 'Model', 'Operating System', 'Display Type', 'Resolution']\n"
          ]
        }
      ],
      "source": [
        "df_encod = df_cleaned.copy()\n",
        "\n",
        "object_features = df_encod.select_dtypes(include = \"object\").columns.tolist()\n",
        "print(len(object_features))\n",
        "print(object_features)"
      ]
    },
    {
      "cell_type": "code",
      "execution_count": 188,
      "id": "4d01806d-82e0-459a-bd62-dcbde5b197c2",
      "metadata": {
        "colab": {
          "base_uri": "https://localhost:8080/"
        },
        "id": "4d01806d-82e0-459a-bd62-dcbde5b197c2",
        "outputId": "13cdca72-28ee-45db-b65b-7f9154ab202f"
      },
      "outputs": [
        {
          "output_type": "stream",
          "name": "stdout",
          "text": [
            "Shape of df before encoding:  (366, 15)\n",
            "Shape of df after encoding:  (366, 256)\n"
          ]
        }
      ],
      "source": [
        "print(\"Shape of df before encoding: \", df_encod.shape)\n",
        "\n",
        "df_encod = pd.get_dummies(df_encod,\n",
        "               columns=object_features,\n",
        "               prefix = object_features,\n",
        "               drop_first = True).astype(int)\n",
        "\n",
        "print(\"Shape of df after encoding: \", df_encod.shape)"
      ]
    },
    {
      "cell_type": "code",
      "execution_count": 189,
      "id": "c563c3a7-d88d-4e39-aeee-103df038f5ad",
      "metadata": {
        "id": "c563c3a7-d88d-4e39-aeee-103df038f5ad"
      },
      "outputs": [],
      "source": [
        "df = df_encod.copy()"
      ]
    },
    {
      "cell_type": "markdown",
      "id": "9c0d697e-7b15-4243-b6e6-01023120509a",
      "metadata": {
        "id": "9c0d697e-7b15-4243-b6e6-01023120509a"
      },
      "source": [
        "## Splitting the dataset into X and Y for training and testing"
      ]
    },
    {
      "cell_type": "code",
      "execution_count": 190,
      "id": "1810d496-63ca-4d29-aba7-a20a7e477004",
      "metadata": {
        "id": "1810d496-63ca-4d29-aba7-a20a7e477004"
      },
      "outputs": [],
      "source": [
        "X = df.drop(columns = \"Price (INR)\")\n",
        "y = df[\"Price (INR)\"]"
      ]
    },
    {
      "cell_type": "code",
      "execution_count": 191,
      "id": "3be24e82-4c0e-48e2-b2fc-3d065da2125f",
      "metadata": {
        "id": "3be24e82-4c0e-48e2-b2fc-3d065da2125f"
      },
      "outputs": [],
      "source": [
        "X_train, X_test, y_train, y_test = train_test_split(X,y, test_size=0.2, random_state=42)"
      ]
    },
    {
      "cell_type": "markdown",
      "id": "05ff0f74-aa8d-4257-86ca-2378f6d59efd",
      "metadata": {
        "id": "05ff0f74-aa8d-4257-86ca-2378f6d59efd"
      },
      "source": [
        "## Feature Scaling"
      ]
    },
    {
      "cell_type": "code",
      "execution_count": 192,
      "id": "b4caeff1-d6dc-4968-b0b2-01e1a6f8a99c",
      "metadata": {
        "id": "b4caeff1-d6dc-4968-b0b2-01e1a6f8a99c"
      },
      "outputs": [],
      "source": [
        "sc = StandardScaler()\n",
        "sc.fit(X_train)\n",
        "X_train = sc.transform(X_train)\n",
        "X_test = sc.transform(X_test)"
      ]
    },
    {
      "cell_type": "markdown",
      "id": "68d32bc2-d1d5-4e69-9595-57977e975f75",
      "metadata": {
        "id": "68d32bc2-d1d5-4e69-9595-57977e975f75"
      },
      "source": [
        "## Training Multiple Models - Pre-requisites"
      ]
    },
    {
      "cell_type": "code",
      "execution_count": 193,
      "id": "3d7fbdb0-21d8-41a4-946e-f73b4f937d06",
      "metadata": {
        "id": "3d7fbdb0-21d8-41a4-946e-f73b4f937d06"
      },
      "outputs": [],
      "source": [
        "from sklearn.metrics import mean_squared_error, mean_absolute_error, r2_score"
      ]
    },
    {
      "cell_type": "code",
      "execution_count": 194,
      "id": "fe27f031-a594-4bad-8cd4-cada4f0375b9",
      "metadata": {
        "id": "fe27f031-a594-4bad-8cd4-cada4f0375b9"
      },
      "outputs": [],
      "source": [
        "# Function to get metrics\n",
        "def get_metrics(y_test, y_pred, model_name):\n",
        "    MSE = mean_squared_error(y_test, y_pred)\n",
        "    RMSE = np.sqrt(MSE)\n",
        "    MAE = mean_absolute_error(y_test, y_pred)\n",
        "    R2 = r2_score(y_test, y_pred)\n",
        "\n",
        "    print(f\"{model_name} : ['MSE': {round(MSE, 3)}, 'RMSE': {round(RMSE, 3)}, 'MAE': {round(MAE, 3)}, 'R2': {round(R2, 3)}]\")"
      ]
    },
    {
      "cell_type": "markdown",
      "id": "8e876534-066c-47a9-9d11-302132d0b4b4",
      "metadata": {
        "id": "8e876534-066c-47a9-9d11-302132d0b4b4"
      },
      "source": [
        "## Training Multiple Models"
      ]
    },
    {
      "cell_type": "code",
      "execution_count": 195,
      "id": "1f4f407d-01ee-471a-9231-0099c56d4da6",
      "metadata": {
        "id": "1f4f407d-01ee-471a-9231-0099c56d4da6"
      },
      "outputs": [],
      "source": [
        "from sklearn.linear_model import LinearRegression, Ridge, Lasso\n",
        "from sklearn.preprocessing import PolynomialFeatures\n",
        "from sklearn.svm import SVR\n",
        "from sklearn.neighbors import KNeighborsRegressor\n",
        "from sklearn.tree import DecisionTreeRegressor\n",
        "from sklearn.ensemble import RandomForestRegressor\n",
        "from xgboost import XGBRegressor"
      ]
    },
    {
      "cell_type": "code",
      "execution_count": 196,
      "id": "0df544d7-f71e-45fd-afd9-1573f08884c8",
      "metadata": {
        "colab": {
          "base_uri": "https://localhost:8080/"
        },
        "id": "0df544d7-f71e-45fd-afd9-1573f08884c8",
        "outputId": "46e76b9a-5b17-4a09-9f46-426c35cc8954"
      },
      "outputs": [
        {
          "output_type": "stream",
          "name": "stderr",
          "text": [
            "/usr/local/lib/python3.10/dist-packages/sklearn/linear_model/_coordinate_descent.py:697: ConvergenceWarning: Objective did not converge. You might want to increase the number of iterations, check the scale of the features or consider increasing regularisation. Duality gap: 1.368e+07, tolerance: 8.206e+06\n",
            "  model = cd_fast.enet_coordinate_descent(\n"
          ]
        }
      ],
      "source": [
        "# Training Ridge and Lasso Regression\n",
        "rir = Ridge().fit(X_train, y_train)\n",
        "y_pred_rir = rir.predict(X_test)\n",
        "\n",
        "lar = Lasso().fit(X_train, y_train)\n",
        "y_pred_lar = lar.predict(X_test)\n"
      ]
    },
    {
      "cell_type": "markdown",
      "id": "a93ed619-e238-4663-a9b3-726ba1772ce2",
      "metadata": {
        "id": "a93ed619-e238-4663-a9b3-726ba1772ce2"
      },
      "source": [
        "### Scores after models are trained"
      ]
    },
    {
      "cell_type": "code",
      "execution_count": 197,
      "id": "f9609c96-ec44-4568-8662-488658843a4a",
      "metadata": {
        "colab": {
          "base_uri": "https://localhost:8080/"
        },
        "id": "f9609c96-ec44-4568-8662-488658843a4a",
        "outputId": "4b77f114-638b-4a2d-9840-5ca238dabd84"
      },
      "outputs": [
        {
          "output_type": "stream",
          "name": "stdout",
          "text": [
            "Ridge : ['MSE': 35918662.319, 'RMSE': 5993.218, 'MAE': 3460.099, 'R2': 0.822]\n",
            "Lasso : ['MSE': 40554258.593, 'RMSE': 6368.223, 'MAE': 3459.126, 'R2': 0.799]\n"
          ]
        }
      ],
      "source": [
        "# Get metrics for each model\n",
        "\n",
        "get_metrics(y_test, y_pred_rir, \"Ridge\")\n",
        "get_metrics(y_test, y_pred_lar, \"Lasso\")"
      ]
    },
    {
      "cell_type": "code",
      "source": [
        "# # Polynomial Regression\n",
        "# poly = PolynomialFeatures(2)\n",
        "# X_train_poly = poly.fit_transform(X_train)\n",
        "# X_test_poly = poly.transform(X_test)\n",
        "\n",
        "# poly_r = LinearRegression().fit(X_train_poly, y_train)\n",
        "# y_pred_poly = poly_r.predict(X_test_poly)"
      ],
      "metadata": {
        "id": "z8lRxHCp9D9u"
      },
      "id": "z8lRxHCp9D9u",
      "execution_count": 198,
      "outputs": []
    },
    {
      "cell_type": "code",
      "source": [
        "# get_metrics(y_test, y_pred_poly, \"PolynomialFeatures\")"
      ],
      "metadata": {
        "id": "weicZveE9EAq"
      },
      "id": "weicZveE9EAq",
      "execution_count": 199,
      "outputs": []
    },
    {
      "cell_type": "code",
      "source": [
        "# Support Vector Regression\n",
        "svr = SVR().fit(X_train, y_train)\n",
        "y_pred_svr = svr.predict(X_test)"
      ],
      "metadata": {
        "id": "WSvDNDTg9EEH"
      },
      "id": "WSvDNDTg9EEH",
      "execution_count": 200,
      "outputs": []
    },
    {
      "cell_type": "code",
      "source": [
        "get_metrics(y_test, y_pred_svr, \"SVR\")"
      ],
      "metadata": {
        "colab": {
          "base_uri": "https://localhost:8080/"
        },
        "id": "jQe-Z8Oc9EHK",
        "outputId": "ac425b84-a920-4c87-ef62-992918961c4e"
      },
      "id": "jQe-Z8Oc9EHK",
      "execution_count": 201,
      "outputs": [
        {
          "output_type": "stream",
          "name": "stdout",
          "text": [
            "SVR : ['MSE': 211183994.485, 'RMSE': 14532.171, 'MAE': 9074.33, 'R2': -0.048]\n"
          ]
        }
      ]
    },
    {
      "cell_type": "code",
      "source": [
        "# KNeighbors Regressor\n",
        "knnr = KNeighborsRegressor().fit(X_train, y_train)\n",
        "y_pred_knnr = knnr.predict(X_test)"
      ],
      "metadata": {
        "id": "3qfFLAuY9EJy"
      },
      "id": "3qfFLAuY9EJy",
      "execution_count": 202,
      "outputs": []
    },
    {
      "cell_type": "code",
      "source": [
        "get_metrics(y_test, y_pred_knnr, \"KNeighborsRegressor\")"
      ],
      "metadata": {
        "colab": {
          "base_uri": "https://localhost:8080/"
        },
        "id": "ebuXXrav9EMo",
        "outputId": "20b8bcda-6484-4231-9fae-af9d12ccd2ce"
      },
      "id": "ebuXXrav9EMo",
      "execution_count": 203,
      "outputs": [
        {
          "output_type": "stream",
          "name": "stdout",
          "text": [
            "KNeighborsRegressor : ['MSE': 63254403.279, 'RMSE': 7953.264, 'MAE': 5081.843, 'R2': 0.686]\n"
          ]
        }
      ]
    },
    {
      "cell_type": "code",
      "source": [
        "# Decision Tree Regressor\n",
        "dtr = DecisionTreeRegressor().fit(X_train, y_train)\n",
        "y_pred_dtr = dtr.predict(X_test)"
      ],
      "metadata": {
        "id": "Hpw6NsIU9EPW"
      },
      "id": "Hpw6NsIU9EPW",
      "execution_count": 204,
      "outputs": []
    },
    {
      "cell_type": "code",
      "source": [
        "get_metrics(y_test, y_pred_dtr, \"DecisionTreeRegressor\")"
      ],
      "metadata": {
        "colab": {
          "base_uri": "https://localhost:8080/"
        },
        "id": "KnoceZro9ESS",
        "outputId": "7cc08925-da7b-4ba4-e11d-99258af1bbd0"
      },
      "id": "KnoceZro9ESS",
      "execution_count": 205,
      "outputs": [
        {
          "output_type": "stream",
          "name": "stdout",
          "text": [
            "DecisionTreeRegressor : ['MSE': 45203958.456, 'RMSE': 6723.389, 'MAE': 3464.143, 'R2': 0.776]\n"
          ]
        }
      ]
    },
    {
      "cell_type": "code",
      "source": [
        "# Random Forest Regressor\n",
        "rfr = RandomForestRegressor().fit(X_train, y_train)\n",
        "y_pred_rfr = rfr.predict(X_test)"
      ],
      "metadata": {
        "id": "6sSD7ual9EVR"
      },
      "id": "6sSD7ual9EVR",
      "execution_count": 206,
      "outputs": []
    },
    {
      "cell_type": "code",
      "source": [
        "get_metrics(y_test, y_pred_rfr, \"RandomForestRegressor\")"
      ],
      "metadata": {
        "colab": {
          "base_uri": "https://localhost:8080/"
        },
        "id": "2PJc7nHz9EX4",
        "outputId": "378d4c8e-b2a4-4a61-e3c2-faca6ceb7e97"
      },
      "id": "2PJc7nHz9EX4",
      "execution_count": 207,
      "outputs": [
        {
          "output_type": "stream",
          "name": "stdout",
          "text": [
            "RandomForestRegressor : ['MSE': 32254531.86, 'RMSE': 5679.307, 'MAE': 3122.43, 'R2': 0.84]\n"
          ]
        }
      ]
    },
    {
      "cell_type": "code",
      "source": [
        "# XGBoost Regressor\n",
        "xgbr = XGBRegressor().fit(X_train, y_train)\n",
        "y_pred_xgbr = xgbr.predict(X_test)"
      ],
      "metadata": {
        "id": "jmfkhiE79Xh9"
      },
      "id": "jmfkhiE79Xh9",
      "execution_count": 208,
      "outputs": []
    },
    {
      "cell_type": "code",
      "source": [
        "get_metrics(y_test, y_pred_xgbr, \"XGBRegressor\")"
      ],
      "metadata": {
        "colab": {
          "base_uri": "https://localhost:8080/"
        },
        "id": "JTc4B6FH9Xll",
        "outputId": "023f24a3-0d01-48e5-d25d-a6682bba9820"
      },
      "id": "JTc4B6FH9Xll",
      "execution_count": 209,
      "outputs": [
        {
          "output_type": "stream",
          "name": "stdout",
          "text": [
            "XGBRegressor : ['MSE': 35836625.849, 'RMSE': 5986.37, 'MAE': 3127.027, 'R2': 0.822]\n"
          ]
        }
      ]
    },
    {
      "cell_type": "code",
      "source": [
        "# Gradient Boosting Regressor\n",
        "from sklearn.ensemble import GradientBoostingRegressor\n",
        "gbr = GradientBoostingRegressor().fit(X_train, y_train)\n",
        "y_pred_gbr = gbr.predict(X_test)\n",
        "get_metrics(y_test, y_pred_gbr, \"GradientBoostingRegressor\")"
      ],
      "metadata": {
        "colab": {
          "base_uri": "https://localhost:8080/"
        },
        "id": "4OrKBPrMIdhC",
        "outputId": "ef56972e-a6b7-426b-f834-1a9463edd486"
      },
      "id": "4OrKBPrMIdhC",
      "execution_count": 210,
      "outputs": [
        {
          "output_type": "stream",
          "name": "stdout",
          "text": [
            "GradientBoostingRegressor : ['MSE': 38001596.374, 'RMSE': 6164.543, 'MAE': 4075.595, 'R2': 0.811]\n"
          ]
        }
      ]
    },
    {
      "cell_type": "code",
      "source": [
        "# AdaBoost Regressor\n",
        "from sklearn.ensemble import AdaBoostRegressor\n",
        "abr = AdaBoostRegressor().fit(X_train, y_train)\n",
        "y_pred_abr = abr.predict(X_test)\n",
        "get_metrics(y_test, y_pred_abr, \"AdaBoostRegressor\")"
      ],
      "metadata": {
        "colab": {
          "base_uri": "https://localhost:8080/"
        },
        "id": "_U-nlcEWIdkm",
        "outputId": "fb9b0299-cf05-4e2c-d222-9242ca55f54d"
      },
      "id": "_U-nlcEWIdkm",
      "execution_count": 211,
      "outputs": [
        {
          "output_type": "stream",
          "name": "stdout",
          "text": [
            "AdaBoostRegressor : ['MSE': 75648903.839, 'RMSE': 8697.638, 'MAE': 6449.457, 'R2': 0.625]\n"
          ]
        }
      ]
    },
    {
      "cell_type": "code",
      "source": [
        "# Extra Trees Regressor\n",
        "from sklearn.ensemble import ExtraTreesRegressor\n",
        "etr = ExtraTreesRegressor().fit(X_train, y_train)\n",
        "y_pred_etr = etr.predict(X_test)\n",
        "get_metrics(y_test, y_pred_etr, \"ExtraTreesRegressor\")"
      ],
      "metadata": {
        "colab": {
          "base_uri": "https://localhost:8080/"
        },
        "id": "hf2iQKTpIdoF",
        "outputId": "085cc6a3-1b1a-48ad-c291-4b77a7da8a0f"
      },
      "id": "hf2iQKTpIdoF",
      "execution_count": 212,
      "outputs": [
        {
          "output_type": "stream",
          "name": "stdout",
          "text": [
            "ExtraTreesRegressor : ['MSE': 42031828.743, 'RMSE': 6483.196, 'MAE': 3111.344, 'R2': 0.791]\n"
          ]
        }
      ]
    },
    {
      "cell_type": "code",
      "source": [
        "# LightGBM Regressor\n",
        "from lightgbm import LGBMRegressor\n",
        "lgbmr = LGBMRegressor().fit(X_train, y_train)\n",
        "y_pred_lgbmr = lgbmr.predict(X_test)\n",
        "get_metrics(y_test, y_pred_lgbmr, \"LGBMRegressor\")"
      ],
      "metadata": {
        "colab": {
          "base_uri": "https://localhost:8080/"
        },
        "id": "AnB7BtxVIdrQ",
        "outputId": "d5dd7673-b824-4de9-e497-b985f5be40da"
      },
      "id": "AnB7BtxVIdrQ",
      "execution_count": 213,
      "outputs": [
        {
          "output_type": "stream",
          "name": "stdout",
          "text": [
            "[LightGBM] [Info] Auto-choosing row-wise multi-threading, the overhead of testing was 0.000143 seconds.\n",
            "You can set `force_row_wise=true` to remove the overhead.\n",
            "And if memory is not enough, you can set `force_col_wise=true`.\n",
            "[LightGBM] [Info] Total Bins 66\n",
            "[LightGBM] [Info] Number of data points in the train set: 292, number of used features: 15\n",
            "[LightGBM] [Info] Start training from score 25413.349315\n",
            "[LightGBM] [Warning] No further splits with positive gain, best gain: -inf\n",
            "[LightGBM] [Warning] No further splits with positive gain, best gain: -inf\n",
            "[LightGBM] [Warning] No further splits with positive gain, best gain: -inf\n",
            "[LightGBM] [Warning] No further splits with positive gain, best gain: -inf\n",
            "[LightGBM] [Warning] No further splits with positive gain, best gain: -inf\n",
            "[LightGBM] [Warning] No further splits with positive gain, best gain: -inf\n",
            "[LightGBM] [Warning] No further splits with positive gain, best gain: -inf\n",
            "[LightGBM] [Warning] No further splits with positive gain, best gain: -inf\n",
            "[LightGBM] [Warning] No further splits with positive gain, best gain: -inf\n",
            "[LightGBM] [Warning] No further splits with positive gain, best gain: -inf\n",
            "[LightGBM] [Warning] No further splits with positive gain, best gain: -inf\n",
            "[LightGBM] [Warning] No further splits with positive gain, best gain: -inf\n",
            "[LightGBM] [Warning] No further splits with positive gain, best gain: -inf\n",
            "[LightGBM] [Warning] No further splits with positive gain, best gain: -inf\n",
            "[LightGBM] [Warning] No further splits with positive gain, best gain: -inf\n",
            "[LightGBM] [Warning] No further splits with positive gain, best gain: -inf\n",
            "[LightGBM] [Warning] No further splits with positive gain, best gain: -inf\n",
            "[LightGBM] [Warning] No further splits with positive gain, best gain: -inf\n",
            "[LightGBM] [Warning] No further splits with positive gain, best gain: -inf\n",
            "[LightGBM] [Warning] No further splits with positive gain, best gain: -inf\n",
            "[LightGBM] [Warning] No further splits with positive gain, best gain: -inf\n",
            "[LightGBM] [Warning] No further splits with positive gain, best gain: -inf\n",
            "[LightGBM] [Warning] No further splits with positive gain, best gain: -inf\n",
            "[LightGBM] [Warning] No further splits with positive gain, best gain: -inf\n",
            "[LightGBM] [Warning] No further splits with positive gain, best gain: -inf\n",
            "[LightGBM] [Warning] No further splits with positive gain, best gain: -inf\n",
            "[LightGBM] [Warning] No further splits with positive gain, best gain: -inf\n",
            "[LightGBM] [Warning] No further splits with positive gain, best gain: -inf\n",
            "[LightGBM] [Warning] No further splits with positive gain, best gain: -inf\n",
            "[LightGBM] [Warning] No further splits with positive gain, best gain: -inf\n",
            "[LightGBM] [Warning] No further splits with positive gain, best gain: -inf\n",
            "[LightGBM] [Warning] No further splits with positive gain, best gain: -inf\n",
            "[LightGBM] [Warning] No further splits with positive gain, best gain: -inf\n",
            "[LightGBM] [Warning] No further splits with positive gain, best gain: -inf\n",
            "[LightGBM] [Warning] No further splits with positive gain, best gain: -inf\n",
            "[LightGBM] [Warning] No further splits with positive gain, best gain: -inf\n",
            "[LightGBM] [Warning] No further splits with positive gain, best gain: -inf\n",
            "[LightGBM] [Warning] No further splits with positive gain, best gain: -inf\n",
            "[LightGBM] [Warning] No further splits with positive gain, best gain: -inf\n",
            "[LightGBM] [Warning] No further splits with positive gain, best gain: -inf\n",
            "[LightGBM] [Warning] No further splits with positive gain, best gain: -inf\n",
            "[LightGBM] [Warning] No further splits with positive gain, best gain: -inf\n",
            "[LightGBM] [Warning] No further splits with positive gain, best gain: -inf\n",
            "[LightGBM] [Warning] No further splits with positive gain, best gain: -inf\n",
            "[LightGBM] [Warning] No further splits with positive gain, best gain: -inf\n",
            "[LightGBM] [Warning] No further splits with positive gain, best gain: -inf\n",
            "[LightGBM] [Warning] No further splits with positive gain, best gain: -inf\n",
            "[LightGBM] [Warning] No further splits with positive gain, best gain: -inf\n",
            "[LightGBM] [Warning] No further splits with positive gain, best gain: -inf\n",
            "[LightGBM] [Warning] No further splits with positive gain, best gain: -inf\n",
            "[LightGBM] [Warning] No further splits with positive gain, best gain: -inf\n",
            "[LightGBM] [Warning] No further splits with positive gain, best gain: -inf\n",
            "[LightGBM] [Warning] No further splits with positive gain, best gain: -inf\n",
            "[LightGBM] [Warning] No further splits with positive gain, best gain: -inf\n",
            "[LightGBM] [Warning] No further splits with positive gain, best gain: -inf\n",
            "[LightGBM] [Warning] No further splits with positive gain, best gain: -inf\n",
            "[LightGBM] [Warning] No further splits with positive gain, best gain: -inf\n",
            "[LightGBM] [Warning] No further splits with positive gain, best gain: -inf\n",
            "[LightGBM] [Warning] No further splits with positive gain, best gain: -inf\n",
            "[LightGBM] [Warning] No further splits with positive gain, best gain: -inf\n",
            "[LightGBM] [Warning] No further splits with positive gain, best gain: -inf\n",
            "[LightGBM] [Warning] No further splits with positive gain, best gain: -inf\n",
            "[LightGBM] [Warning] No further splits with positive gain, best gain: -inf\n",
            "[LightGBM] [Warning] No further splits with positive gain, best gain: -inf\n",
            "[LightGBM] [Warning] No further splits with positive gain, best gain: -inf\n",
            "[LightGBM] [Warning] No further splits with positive gain, best gain: -inf\n",
            "[LightGBM] [Warning] No further splits with positive gain, best gain: -inf\n",
            "[LightGBM] [Warning] No further splits with positive gain, best gain: -inf\n",
            "[LightGBM] [Warning] No further splits with positive gain, best gain: -inf\n",
            "[LightGBM] [Warning] No further splits with positive gain, best gain: -inf\n",
            "[LightGBM] [Warning] No further splits with positive gain, best gain: -inf\n",
            "[LightGBM] [Warning] No further splits with positive gain, best gain: -inf\n",
            "[LightGBM] [Warning] No further splits with positive gain, best gain: -inf\n",
            "[LightGBM] [Warning] No further splits with positive gain, best gain: -inf\n",
            "[LightGBM] [Warning] No further splits with positive gain, best gain: -inf\n",
            "[LightGBM] [Warning] No further splits with positive gain, best gain: -inf\n",
            "[LightGBM] [Warning] No further splits with positive gain, best gain: -inf\n",
            "[LightGBM] [Warning] No further splits with positive gain, best gain: -inf\n",
            "[LightGBM] [Warning] No further splits with positive gain, best gain: -inf\n",
            "[LightGBM] [Warning] No further splits with positive gain, best gain: -inf\n",
            "[LightGBM] [Warning] No further splits with positive gain, best gain: -inf\n",
            "[LightGBM] [Warning] No further splits with positive gain, best gain: -inf\n",
            "[LightGBM] [Warning] No further splits with positive gain, best gain: -inf\n",
            "[LightGBM] [Warning] No further splits with positive gain, best gain: -inf\n",
            "[LightGBM] [Warning] No further splits with positive gain, best gain: -inf\n",
            "[LightGBM] [Warning] No further splits with positive gain, best gain: -inf\n",
            "[LightGBM] [Warning] No further splits with positive gain, best gain: -inf\n",
            "[LightGBM] [Warning] No further splits with positive gain, best gain: -inf\n",
            "[LightGBM] [Warning] No further splits with positive gain, best gain: -inf\n",
            "[LightGBM] [Warning] No further splits with positive gain, best gain: -inf\n",
            "[LightGBM] [Warning] No further splits with positive gain, best gain: -inf\n",
            "[LightGBM] [Warning] No further splits with positive gain, best gain: -inf\n",
            "[LightGBM] [Warning] No further splits with positive gain, best gain: -inf\n",
            "[LightGBM] [Warning] No further splits with positive gain, best gain: -inf\n",
            "[LightGBM] [Warning] No further splits with positive gain, best gain: -inf\n",
            "[LightGBM] [Warning] No further splits with positive gain, best gain: -inf\n",
            "[LightGBM] [Warning] No further splits with positive gain, best gain: -inf\n",
            "[LightGBM] [Warning] No further splits with positive gain, best gain: -inf\n",
            "[LightGBM] [Warning] No further splits with positive gain, best gain: -inf\n",
            "[LightGBM] [Warning] No further splits with positive gain, best gain: -inf\n",
            "LGBMRegressor : ['MSE': 113312763.028, 'RMSE': 10644.847, 'MAE': 6208.775, 'R2': 0.438]\n"
          ]
        }
      ]
    },
    {
      "cell_type": "code",
      "source": [
        "# CatBoost Regressor\n",
        "from catboost import CatBoostRegressor\n",
        "cbr = CatBoostRegressor(verbose=0).fit(X_train, y_train)\n",
        "y_pred_cbr = cbr.predict(X_test)\n",
        "get_metrics(y_test, y_pred_cbr, \"CatBoostRegressor\")"
      ],
      "metadata": {
        "colab": {
          "base_uri": "https://localhost:8080/"
        },
        "id": "F1d8BnbDIduO",
        "outputId": "a09eb07f-66fd-4381-b06d-982c5d48fe62"
      },
      "id": "F1d8BnbDIduO",
      "execution_count": 214,
      "outputs": [
        {
          "output_type": "stream",
          "name": "stdout",
          "text": [
            "CatBoostRegressor : ['MSE': 29346028.161, 'RMSE': 5417.197, 'MAE': 3250.393, 'R2': 0.854]\n"
          ]
        }
      ]
    },
    {
      "cell_type": "code",
      "source": [
        "# ElasticNet Regression\n",
        "from sklearn.linear_model import ElasticNet\n",
        "en = ElasticNet().fit(X_train, y_train)\n",
        "y_pred_en = en.predict(X_test)\n",
        "get_metrics(y_test, y_pred_en, \"ElasticNet\")"
      ],
      "metadata": {
        "colab": {
          "base_uri": "https://localhost:8080/"
        },
        "id": "wZxwxa-3IdxJ",
        "outputId": "8bd229f3-2d2a-45dc-8469-9d8b1bfce2c5"
      },
      "id": "wZxwxa-3IdxJ",
      "execution_count": 215,
      "outputs": [
        {
          "output_type": "stream",
          "name": "stdout",
          "text": [
            "ElasticNet : ['MSE': 18886115.169, 'RMSE': 4345.816, 'MAE': 3222.213, 'R2': 0.906]\n"
          ]
        }
      ]
    },
    {
      "cell_type": "code",
      "source": [
        "# Huber Regressor\n",
        "from sklearn.linear_model import HuberRegressor\n",
        "hr = HuberRegressor().fit(X_train, y_train)\n",
        "y_pred_hr = hr.predict(X_test)\n",
        "get_metrics(y_test, y_pred_hr, \"HuberRegressor\")"
      ],
      "metadata": {
        "colab": {
          "base_uri": "https://localhost:8080/"
        },
        "id": "OtBkakcRId0I",
        "outputId": "172d3fd8-b188-4e05-c6bd-39ffa35edf1b"
      },
      "id": "OtBkakcRId0I",
      "execution_count": 216,
      "outputs": [
        {
          "output_type": "stream",
          "name": "stdout",
          "text": [
            "HuberRegressor : ['MSE': 33921689.106, 'RMSE': 5824.233, 'MAE': 3089.383, 'R2': 0.832]\n"
          ]
        },
        {
          "output_type": "stream",
          "name": "stderr",
          "text": [
            "/usr/local/lib/python3.10/dist-packages/sklearn/linear_model/_huber.py:342: ConvergenceWarning: lbfgs failed to converge (status=1):\n",
            "STOP: TOTAL NO. of ITERATIONS REACHED LIMIT.\n",
            "\n",
            "Increase the number of iterations (max_iter) or scale the data as shown in:\n",
            "    https://scikit-learn.org/stable/modules/preprocessing.html\n",
            "  self.n_iter_ = _check_optimize_result(\"lbfgs\", opt_res, self.max_iter)\n"
          ]
        }
      ]
    },
    {
      "cell_type": "markdown",
      "id": "5cd77c5b-482a-4963-a2f6-5050f9fe43b3",
      "metadata": {
        "id": "5cd77c5b-482a-4963-a2f6-5050f9fe43b3"
      },
      "source": [
        "# Best Model for this case: ElasticNet with 'R2': 0.906"
      ]
    },
    {
      "cell_type": "code",
      "execution_count": 220,
      "id": "3500204b-7416-45ca-a19b-838d6bca185d",
      "metadata": {
        "colab": {
          "base_uri": "https://localhost:8080/",
          "height": 472
        },
        "id": "3500204b-7416-45ca-a19b-838d6bca185d",
        "outputId": "080bc742-8578-4609-af92-42c7e3ed4ac5"
      },
      "outputs": [
        {
          "output_type": "display_data",
          "data": {
            "text/plain": [
              "<Figure size 640x480 with 1 Axes>"
            ],
            "image/png": "[encoded data removed]"
          },
          "metadata": {}
        }
      ],
      "source": [
        "plt.scatter(y_test, y_pred_en)\n",
        "plt.title(\"ElasticNet: Ground Truth vs Prediction\")\n",
        "plt.xlabel(\"Ground Truth\")\n",
        "plt.ylabel(\"Prediction\")\n",
        "plt.show()"
      ]
    },
    {
      "cell_type": "code",
      "source": [
        "plt.scatter(y_test, y_pred_rfr)\n",
        "plt.title(\"Random Forest Regression: Ground Truth vs Prediction\")\n",
        "plt.xlabel(\"Ground Truth\")\n",
        "plt.ylabel(\"Prediction\")\n",
        "plt.show()"
      ],
      "metadata": {
        "colab": {
          "base_uri": "https://localhost:8080/",
          "height": 472
        },
        "id": "GiNKWWQTHfbp",
        "outputId": "643eb80e-6133-495a-d551-a1343d8dd19d"
      },
      "id": "GiNKWWQTHfbp",
      "execution_count": 218,
      "outputs": [
        {
          "output_type": "display_data",
          "data": {
            "text/plain": [
              "<Figure size 640x480 with 1 Axes>"
            ],
            "image/png": "[encoded data removed]"
          },
          "metadata": {}
        }
      ]
    },
    {
      "cell_type": "code",
      "source": [
        "plt.scatter(y_test, y_pred_xgbr)\n",
        "plt.title(\"XGB Regression: Ground Truth vs Prediction\")\n",
        "plt.xlabel(\"Ground Truth\")\n",
        "plt.ylabel(\"Prediction\")\n",
        "plt.show()"
      ],
      "metadata": {
        "colab": {
          "base_uri": "https://localhost:8080/",
          "height": 472
        },
        "id": "aFfynDzDHib4",
        "outputId": "02d3ab73-ff87-40b6-d06b-7ac9296f452e"
      },
      "id": "aFfynDzDHib4",
      "execution_count": 219,
      "outputs": [
        {
          "output_type": "display_data",
          "data": {
            "text/plain": [
              "<Figure size 640x480 with 1 Axes>"
            ],
            "image/png": "[encoded data removed]"
          },
          "metadata": {}
        }
      ]
    },
    {
      "cell_type": "code",
      "source": [],
      "metadata": {
        "id": "kZOQcHhRHqEp"
      },
      "id": "kZOQcHhRHqEp",
      "execution_count": 219,
      "outputs": []
    }
  ],
  "metadata": {
    "kernelspec": {
      "display_name": "Python 3 (ipykernel)",
      "language": "python",
      "name": "python3"
    },
    "language_info": {
      "codemirror_mode": {
        "name": "ipython",
        "version": 3
      },
      "file_extension": ".py",
      "mimetype": "text/x-python",
      "name": "python",
      "nbconvert_exporter": "python",
      "pygments_lexer": "ipython3",
      "version": "3.12.4"
    },
    "colab": {
      "provenance": []
    }
  },
  "nbformat": 4,
  "nbformat_minor": 5
}